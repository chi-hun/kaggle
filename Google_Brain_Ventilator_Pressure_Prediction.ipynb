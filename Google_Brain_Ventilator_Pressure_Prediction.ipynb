{
  "nbformat": 4,
  "nbformat_minor": 0,
  "metadata": {
    "colab": {
      "provenance": [],
      "collapsed_sections": [],
      "mount_file_id": "1a1JjnKAqfcgPg7RZv3A3lG-wkFK0S14v",
      "authorship_tag": "ABX9TyM+GBSJLqNUlWxwjZgk2QWd",
      "include_colab_link": true
    },
    "kernelspec": {
      "name": "python3",
      "display_name": "Python 3"
    },
    "language_info": {
      "name": "python"
    },
    "accelerator": "GPU",
    "gpuClass": "standard"
  },
  "cells": [
    {
      "cell_type": "markdown",
      "metadata": {
        "id": "view-in-github",
        "colab_type": "text"
      },
      "source": [
        "<a href=\"https://colab.research.google.com/github/chi-hun/kaggle/blob/main/Google_Brain_Ventilator_Pressure_Prediction.ipynb\" target=\"_parent\"><img src=\"https://colab.research.google.com/assets/colab-badge.svg\" alt=\"Open In Colab\"/></a>"
      ]
    },
    {
      "cell_type": "markdown",
      "source": [
        "Google Brain - Ventilator Pressure Prediction\n",
        "\n",
        "https://www.kaggle.com/competitions/ventilator-pressure-prediction"
      ],
      "metadata": {
        "id": "L34J8jG0RrxD"
      }
    },
    {
      "cell_type": "code",
      "execution_count": 1,
      "metadata": {
        "colab": {
          "base_uri": "https://localhost:8080/"
        },
        "id": "9T8RoCNeSjSl",
        "outputId": "1a0cd4f8-0232-475b-ce34-caf0d6c27f12"
      },
      "outputs": [
        {
          "output_type": "stream",
          "name": "stdout",
          "text": [
            "Looking in indexes: https://pypi.org/simple, https://us-python.pkg.dev/colab-wheels/public/simple/\n",
            "Requirement already satisfied: kaggle in /usr/local/lib/python3.7/dist-packages (1.5.12)\n",
            "Requirement already satisfied: certifi in /usr/local/lib/python3.7/dist-packages (from kaggle) (2022.9.24)\n",
            "Requirement already satisfied: python-dateutil in /usr/local/lib/python3.7/dist-packages (from kaggle) (2.8.2)\n",
            "Requirement already satisfied: python-slugify in /usr/local/lib/python3.7/dist-packages (from kaggle) (6.1.2)\n",
            "Requirement already satisfied: six>=1.10 in /usr/local/lib/python3.7/dist-packages (from kaggle) (1.15.0)\n",
            "Requirement already satisfied: requests in /usr/local/lib/python3.7/dist-packages (from kaggle) (2.23.0)\n",
            "Requirement already satisfied: urllib3 in /usr/local/lib/python3.7/dist-packages (from kaggle) (1.24.3)\n",
            "Requirement already satisfied: tqdm in /usr/local/lib/python3.7/dist-packages (from kaggle) (4.64.1)\n",
            "Requirement already satisfied: text-unidecode>=1.3 in /usr/local/lib/python3.7/dist-packages (from python-slugify->kaggle) (1.3)\n",
            "Requirement already satisfied: chardet<4,>=3.0.2 in /usr/local/lib/python3.7/dist-packages (from requests->kaggle) (3.0.4)\n",
            "Requirement already satisfied: idna<3,>=2.5 in /usr/local/lib/python3.7/dist-packages (from requests->kaggle) (2.10)\n"
          ]
        }
      ],
      "source": [
        "!pip install kaggle"
      ]
    },
    {
      "cell_type": "code",
      "source": [
        "import os\n",
        "import pandas as pd\n",
        "import numpy as np\n",
        "from sklearn.preprocessing import MinMaxScaler\n",
        "import tensorflow as tf\n",
        "from tensorflow.keras import layers"
      ],
      "metadata": {
        "id": "jzgR3KA6Y2xK"
      },
      "execution_count": 1,
      "outputs": []
    },
    {
      "cell_type": "code",
      "source": [
        "!mkdir -p ~/.kaggle\n",
        "!cp '/content/drive/MyDrive/Colab Notebooks/kaggle/kaggle.json' ~/.kaggle\n",
        "!chmod -600 ~/.kaggle/kaggle.json"
      ],
      "metadata": {
        "id": "_-CqTBaSY9UL"
      },
      "execution_count": 2,
      "outputs": []
    },
    {
      "cell_type": "code",
      "source": [
        "!kaggle competitions download -c ventilator-pressure-prediction"
      ],
      "metadata": {
        "colab": {
          "base_uri": "https://localhost:8080/"
        },
        "id": "EtWojxk_abOd",
        "outputId": "da7452b8-5cbb-4225-e360-3254cd976eba"
      },
      "execution_count": 3,
      "outputs": [
        {
          "output_type": "stream",
          "name": "stdout",
          "text": [
            "Downloading ventilator-pressure-prediction.zip to /content\n",
            " 99% 220M/223M [00:01<00:00, 201MB/s]\n",
            "100% 223M/223M [00:01<00:00, 149MB/s]\n"
          ]
        }
      ]
    },
    {
      "cell_type": "code",
      "source": [
        "!unzip /content/ventilator-pressure-prediction.zip"
      ],
      "metadata": {
        "colab": {
          "base_uri": "https://localhost:8080/"
        },
        "id": "N0NUqMmLbYcp",
        "outputId": "55ad3e46-41c5-4b21-edbb-0b99c2127087"
      },
      "execution_count": 4,
      "outputs": [
        {
          "output_type": "stream",
          "name": "stdout",
          "text": [
            "Archive:  /content/ventilator-pressure-prediction.zip\n",
            "  inflating: sample_submission.csv   \n",
            "  inflating: test.csv                \n",
            "  inflating: train.csv               \n"
          ]
        }
      ]
    },
    {
      "cell_type": "code",
      "source": [
        "train = pd.read_csv('/content/train.csv')\n",
        "test = pd.read_csv('/content/test.csv')"
      ],
      "metadata": {
        "id": "MaWYG8RZkhHm"
      },
      "execution_count": 5,
      "outputs": []
    },
    {
      "cell_type": "code",
      "source": [
        "train.info()"
      ],
      "metadata": {
        "colab": {
          "base_uri": "https://localhost:8080/"
        },
        "id": "LjMybpRLlNyD",
        "outputId": "33839e98-1b06-4db7-d879-1c146b5685dd"
      },
      "execution_count": null,
      "outputs": [
        {
          "output_type": "stream",
          "name": "stdout",
          "text": [
            "<class 'pandas.core.frame.DataFrame'>\n",
            "RangeIndex: 6036000 entries, 0 to 6035999\n",
            "Data columns (total 8 columns):\n",
            " #   Column     Dtype  \n",
            "---  ------     -----  \n",
            " 0   id         int64  \n",
            " 1   breath_id  int64  \n",
            " 2   R          int64  \n",
            " 3   C          int64  \n",
            " 4   time_step  float64\n",
            " 5   u_in       float64\n",
            " 6   u_out      int64  \n",
            " 7   pressure   float64\n",
            "dtypes: float64(3), int64(5)\n",
            "memory usage: 368.4 MB\n"
          ]
        }
      ]
    },
    {
      "cell_type": "code",
      "source": [
        "test.info()"
      ],
      "metadata": {
        "colab": {
          "base_uri": "https://localhost:8080/"
        },
        "id": "DnxIkV-umIc1",
        "outputId": "07df5545-045a-4388-aa0f-308f6a9eeab9"
      },
      "execution_count": null,
      "outputs": [
        {
          "output_type": "stream",
          "name": "stdout",
          "text": [
            "<class 'pandas.core.frame.DataFrame'>\n",
            "RangeIndex: 4024000 entries, 0 to 4023999\n",
            "Data columns (total 7 columns):\n",
            " #   Column     Dtype  \n",
            "---  ------     -----  \n",
            " 0   id         int64  \n",
            " 1   breath_id  int64  \n",
            " 2   R          int64  \n",
            " 3   C          int64  \n",
            " 4   time_step  float64\n",
            " 5   u_in       float64\n",
            " 6   u_out      int64  \n",
            "dtypes: float64(2), int64(5)\n",
            "memory usage: 214.9 MB\n"
          ]
        }
      ]
    },
    {
      "cell_type": "code",
      "source": [
        "train.drop(['id', 'breath_id'], axis=1, inplace=True)\n",
        "test.drop(['id', 'breath_id'], axis=1, inplace=True)"
      ],
      "metadata": {
        "id": "XyObwS9qld7P"
      },
      "execution_count": 6,
      "outputs": []
    },
    {
      "cell_type": "code",
      "source": [
        "target = train.pop('pressure')"
      ],
      "metadata": {
        "id": "FaRx0KZ9mOnt"
      },
      "execution_count": 7,
      "outputs": []
    },
    {
      "cell_type": "code",
      "source": [
        "mms = MinMaxScaler()\n",
        "for col in train.columns:\n",
        "    train[col] = mms.fit_transform(train[[col]])\n",
        "    test[col] = mms.transform(test[[col]])"
      ],
      "metadata": {
        "id": "SJru6dnrmZAV"
      },
      "execution_count": 8,
      "outputs": []
    },
    {
      "cell_type": "code",
      "source": [
        "def downcast(df, verbose=True):\n",
        "    dfm_0 = df.memory_usage().sum()/1024**2\n",
        "    for col in df.columns:\n",
        "        col_t = df[col].dtype.name\n",
        "        if col_t == 'object':\n",
        "            pass\n",
        "        elif col_t == 'bool':\n",
        "            df[col].astype('int8')\n",
        "        elif col_t.startswith('int') or (round(df[col]) == df[col]).all() :\n",
        "            df[col] = pd.to_numeric(df[col], downcast='integer')\n",
        "        elif col_t.startswith('float'):\n",
        "            df[col] = pd.to_numeric(df[col], downcast='float')\n",
        "    if verbose:\n",
        "        dfm_1 = df.memory_usage().sum()/1024**2\n",
        "        dfmz = round(((dfm_0 - dfm_1) / (dfm_0)) * 100, 2)\n",
        "        print(f'{dfm_0} -> {dfm_1} 압축률 : {dfmz}%')\n",
        "    return df"
      ],
      "metadata": {
        "id": "N0t-CZKxBcAf"
      },
      "execution_count": 9,
      "outputs": []
    },
    {
      "cell_type": "code",
      "source": [
        "train = downcast(train)\n",
        "test = downcast(test)"
      ],
      "metadata": {
        "colab": {
          "base_uri": "https://localhost:8080/"
        },
        "id": "bTHqwFhtINhh",
        "outputId": "b066eedf-d78f-484a-e055-6659732f65b6"
      },
      "execution_count": 10,
      "outputs": [
        {
          "output_type": "stream",
          "name": "stdout",
          "text": [
            "230.2552490234375 -> 97.85855102539062 압축률 : 57.5%\n",
            "153.5035400390625 -> 65.23907470703125 압축률 : 57.5%\n"
          ]
        }
      ]
    },
    {
      "cell_type": "code",
      "source": [
        "train.shape"
      ],
      "metadata": {
        "colab": {
          "base_uri": "https://localhost:8080/"
        },
        "id": "W9vNnIsgJxX5",
        "outputId": "7e8dc9d7-df94-493f-d0cb-bce158a094db"
      },
      "execution_count": 11,
      "outputs": [
        {
          "output_type": "execute_result",
          "data": {
            "text/plain": [
              "(6036000, 5)"
            ]
          },
          "metadata": {},
          "execution_count": 11
        }
      ]
    },
    {
      "cell_type": "code",
      "source": [
        "train_n = train.values\n",
        "test_n = test.values\n",
        "train_n = train_n.reshape(-1, 40, 5)\n",
        "test_n = test_n.reshape(-1, 40, 5)\n",
        "train_n.shape, test_n.shape"
      ],
      "metadata": {
        "colab": {
          "base_uri": "https://localhost:8080/"
        },
        "id": "Pm_yTzWzIwME",
        "outputId": "5063880b-ba53-45bc-bb32-19596d7e5fcf"
      },
      "execution_count": 12,
      "outputs": [
        {
          "output_type": "execute_result",
          "data": {
            "text/plain": [
              "((150900, 40, 5), (100600, 40, 5))"
            ]
          },
          "metadata": {},
          "execution_count": 12
        }
      ]
    },
    {
      "cell_type": "markdown",
      "source": [
        "# lstm"
      ],
      "metadata": {
        "id": "ejX5oWaVKpnG"
      }
    },
    {
      "cell_type": "code",
      "source": [
        "def model_maker():\n",
        "    inputs = layers.Input(shape=(40,5))\n",
        "    x = layers.Bidirectional(layers.LSTM(1024, activation='tanh', return_sequences=True))(inputs)\n",
        "    x = layers.Bidirectional(layers.LSTM(512, activation='tanh', return_sequences=True))(x)\n",
        "    x = layers.Bidirectional(layers.LSTM(256, activation='tanh', return_sequences=True))(x)\n",
        "    x = layers.Bidirectional(layers.LSTM(128, activation='tanh', return_sequences=True))(x)\n",
        "    x = layers.Dense(128, activation='selu')(x)\n",
        "    outputs = layers.Dense(1)(x)\n",
        "\n",
        "    model = tf.keras.Model(inputs=inputs, outputs=outputs)\n",
        "    return model"
      ],
      "metadata": {
        "id": "A2DNITvvKr5G"
      },
      "execution_count": 13,
      "outputs": []
    },
    {
      "cell_type": "code",
      "source": [
        "model = model_maker()\n",
        "model.summary()"
      ],
      "metadata": {
        "colab": {
          "base_uri": "https://localhost:8080/"
        },
        "id": "HuALEn-jL-c8",
        "outputId": "4e52aef2-cb57-4475-d8c1-b574f9e180df"
      },
      "execution_count": 21,
      "outputs": [
        {
          "output_type": "stream",
          "name": "stdout",
          "text": [
            "Model: \"model_1\"\n",
            "_________________________________________________________________\n",
            " Layer (type)                Output Shape              Param #   \n",
            "=================================================================\n",
            " input_2 (InputLayer)        [(None, 40, 5)]           0         \n",
            "                                                                 \n",
            " bidirectional_4 (Bidirectio  (None, 40, 2048)         8437760   \n",
            " nal)                                                            \n",
            "                                                                 \n",
            " bidirectional_5 (Bidirectio  (None, 40, 1024)         10489856  \n",
            " nal)                                                            \n",
            "                                                                 \n",
            " bidirectional_6 (Bidirectio  (None, 40, 512)          2623488   \n",
            " nal)                                                            \n",
            "                                                                 \n",
            " bidirectional_7 (Bidirectio  (None, 40, 256)          656384    \n",
            " nal)                                                            \n",
            "                                                                 \n",
            " dense_2 (Dense)             (None, 40, 128)           32896     \n",
            "                                                                 \n",
            " dense_3 (Dense)             (None, 40, 1)             129       \n",
            "                                                                 \n",
            "=================================================================\n",
            "Total params: 22,240,513\n",
            "Trainable params: 22,240,513\n",
            "Non-trainable params: 0\n",
            "_________________________________________________________________\n"
          ]
        }
      ]
    },
    {
      "cell_type": "code",
      "source": [
        "model.compile(optimizer=tf.keras.optimizers.RMSprop(), loss='mse', metrics='mae')"
      ],
      "metadata": {
        "id": "g5MYdtxYNw8P"
      },
      "execution_count": 15,
      "outputs": []
    },
    {
      "cell_type": "code",
      "source": [
        "with tf.device('/GPU:0'):\n",
        "    his = model.fit(train_n, target.values, epochs=3, validation_split=0.1, batch_size=1024)"
      ],
      "metadata": {
        "colab": {
          "base_uri": "https://localhost:8080/"
        },
        "id": "ccDwpJ5YPYAD",
        "outputId": "68d0bf2a-893d-464a-85bf-dc22ae5d4efa"
      },
      "execution_count": 20,
      "outputs": [
        {
          "output_type": "stream",
          "name": "stdout",
          "text": [
            "Epoch 1/3\n",
            "133/133 [==============================] - 216s 2s/step - loss: 69.0373 - mae: 6.3077 - val_loss: 59.1442 - val_mae: 5.8289\n",
            "Epoch 2/3\n",
            "133/133 [==============================] - 219s 2s/step - loss: 68.7027 - mae: 6.3074 - val_loss: 59.1348 - val_mae: 5.9265\n",
            "Epoch 3/3\n",
            "133/133 [==============================] - 217s 2s/step - loss: 68.6097 - mae: 6.3071 - val_loss: 59.1859 - val_mae: 5.7750\n"
          ]
        }
      ]
    },
    {
      "cell_type": "code",
      "source": [
        "model.compile(optimizer=tf.keras.optimizers.Adam(), loss='mse', metrics='mae')"
      ],
      "metadata": {
        "id": "C5pT-Ye5l_oM"
      },
      "execution_count": 22,
      "outputs": []
    },
    {
      "cell_type": "code",
      "source": [
        "with tf.device('/GPU:0'):\n",
        "    his = model.fit(train_n, target.values, epochs=3, validation_split=0.1, batch_size=1024)"
      ],
      "metadata": {
        "colab": {
          "base_uri": "https://localhost:8080/"
        },
        "id": "mENBdo1VmDGk",
        "outputId": "a0049ae3-df73-4c54-fe57-9c8aaed155ef"
      },
      "execution_count": 23,
      "outputs": [
        {
          "output_type": "stream",
          "name": "stdout",
          "text": [
            "Epoch 1/3\n",
            "133/133 [==============================] - 217s 2s/step - loss: 70.3359 - mae: 6.3595 - val_loss: 59.1821 - val_mae: 5.7927\n",
            "Epoch 2/3\n",
            "133/133 [==============================] - 214s 2s/step - loss: 68.6347 - mae: 6.3096 - val_loss: 59.1256 - val_mae: 5.8661\n",
            "Epoch 3/3\n",
            "133/133 [==============================] - 217s 2s/step - loss: 68.5845 - mae: 6.3005 - val_loss: 59.3602 - val_mae: 6.0873\n"
          ]
        }
      ]
    }
  ]
}