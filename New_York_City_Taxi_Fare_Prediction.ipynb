{
  "cells": [
    {
      "cell_type": "markdown",
      "metadata": {
        "id": "view-in-github",
        "colab_type": "text"
      },
      "source": [
        "<a href=\"https://colab.research.google.com/github/chi-hun/kaggle/blob/main/New_York_City_Taxi_Fare_Prediction.ipynb\" target=\"_parent\"><img src=\"https://colab.research.google.com/assets/colab-badge.svg\" alt=\"Open In Colab\"/></a>"
      ]
    },
    {
      "cell_type": "markdown",
      "metadata": {
        "id": "8Jw2ZYvS3kfx"
      },
      "source": [
        "New York City Taxi Fare Prediction https://www.kaggle.com/competitions/new-york-city-taxi-fare-prediction/overview"
      ]
    },
    {
      "cell_type": "code",
      "execution_count": null,
      "metadata": {
        "id": "BD9JnNfQWtWr"
      },
      "outputs": [],
      "source": [
        "# 한글 폰트 사용(폰트 다운)\n",
        "!sudo apt-get install -y fonts-nanum\n",
        "!sudo fc-cache -fv\n",
        "!rm ~/.cache/matplotlib -rf"
      ]
    },
    {
      "cell_type": "code",
      "execution_count": null,
      "metadata": {
        "id": "DSloLVD5HJb4"
      },
      "outputs": [],
      "source": [
        "!pip install catboost"
      ]
    },
    {
      "cell_type": "code",
      "execution_count": null,
      "metadata": {
        "id": "MYFwyi6b3Ztb"
      },
      "outputs": [],
      "source": [
        "import pandas as pd\n",
        "import numpy as np\n",
        "import matplotlib.pyplot as plt\n",
        "import seaborn as sns\n",
        "plt.rc('font', family='NanumBarunGothic') \n",
        "plt.rcParams['axes.unicode_minus'] = False # -기호 깨짐 방지\n",
        "import folium\n",
        "from sklearn.preprocessing import StandardScaler, MinMaxScaler\n",
        "from sklearn.model_selection import train_test_split, GridSearchCV\n",
        "from sklearn.metrics import mean_squared_error\n",
        "from sklearn.neighbors import KNeighborsRegressor\n",
        "from sklearn.svm import SVR\n",
        "from sklearn.ensemble import RandomForestRegressor\n",
        "from xgboost import XGBRegressor, XGBRFRegressor\n",
        "from lightgbm import LGBMRegressor\n",
        "from catboost import CatBoostRegressor"
      ]
    },
    {
      "cell_type": "markdown",
      "metadata": {
        "id": "0Rkpygii4FC4"
      },
      "source": [
        "# 데이터 로드(캐글 데이터 가져오기)"
      ]
    },
    {
      "cell_type": "markdown",
      "metadata": {
        "id": "nLXKc3X44W1a"
      },
      "source": [
        "캐글에서 토큰 다운\n",
        "![sdf.PNG](data:image/png;base64,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)"
      ]
    },
    {
      "cell_type": "markdown",
      "metadata": {
        "id": "UKwNzEUh4_GX"
      },
      "source": [
        "토큰 넣기"
      ]
    },
    {
      "cell_type": "code",
      "execution_count": null,
      "metadata": {
        "colab": {
          "base_uri": "https://localhost:8080/",
          "height": 315,
          "resources": {
            "http://localhost:8080/nbextensions/google.colab/files.js": {
              "data": "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",
              "headers": [
                [
                  "content-type",
                  "application/javascript"
                ]
              ],
              "ok": true,
              "status": 200,
              "status_text": ""
            }
          }
        },
        "id": "xCFyPxrH4ILm",
        "outputId": "0983dd06-3ad3-467c-d75a-d1e79b89469a"
      },
      "outputs": [
        {
          "output_type": "stream",
          "name": "stdout",
          "text": [
            "Looking in indexes: https://pypi.org/simple, https://us-python.pkg.dev/colab-wheels/public/simple/\n",
            "Requirement already satisfied: kaggle in /usr/local/lib/python3.7/dist-packages (1.5.12)\n",
            "Requirement already satisfied: six>=1.10 in /usr/local/lib/python3.7/dist-packages (from kaggle) (1.15.0)\n",
            "Requirement already satisfied: python-slugify in /usr/local/lib/python3.7/dist-packages (from kaggle) (6.1.2)\n",
            "Requirement already satisfied: certifi in /usr/local/lib/python3.7/dist-packages (from kaggle) (2022.6.15)\n",
            "Requirement already satisfied: requests in /usr/local/lib/python3.7/dist-packages (from kaggle) (2.23.0)\n",
            "Requirement already satisfied: python-dateutil in /usr/local/lib/python3.7/dist-packages (from kaggle) (2.8.2)\n",
            "Requirement already satisfied: tqdm in /usr/local/lib/python3.7/dist-packages (from kaggle) (4.64.0)\n",
            "Requirement already satisfied: urllib3 in /usr/local/lib/python3.7/dist-packages (from kaggle) (1.24.3)\n",
            "Requirement already satisfied: text-unidecode>=1.3 in /usr/local/lib/python3.7/dist-packages (from python-slugify->kaggle) (1.3)\n",
            "Requirement already satisfied: chardet<4,>=3.0.2 in /usr/local/lib/python3.7/dist-packages (from requests->kaggle) (3.0.4)\n",
            "Requirement already satisfied: idna<3,>=2.5 in /usr/local/lib/python3.7/dist-packages (from requests->kaggle) (2.10)\n"
          ]
        },
        {
          "output_type": "display_data",
          "data": {
            "text/plain": [
              "<IPython.core.display.HTML object>"
            ],
            "text/html": [
              "\n",
              "     <input type=\"file\" id=\"files-ae2f8f01-a533-451e-ae60-5cee92b9af57\" name=\"files[]\" multiple disabled\n",
              "        style=\"border:none\" />\n",
              "     <output id=\"result-ae2f8f01-a533-451e-ae60-5cee92b9af57\">\n",
              "      Upload widget is only available when the cell has been executed in the\n",
              "      current browser session. Please rerun this cell to enable.\n",
              "      </output>\n",
              "      <script src=\"/nbextensions/google.colab/files.js\"></script> "
            ]
          },
          "metadata": {}
        },
        {
          "output_type": "stream",
          "name": "stdout",
          "text": [
            "Saving kaggle.json to kaggle.json\n"
          ]
        },
        {
          "output_type": "execute_result",
          "data": {
            "text/plain": [
              "{'kaggle.json': b'{\"username\":\"huunnii\",\"key\":\"70c5b2314ae139ef812cf3f144c8f227\"}'}"
            ]
          },
          "metadata": {},
          "execution_count": 4
        }
      ],
      "source": [
        "!pip install kaggle\n",
        "from google.colab import files\n",
        "files.upload()"
      ]
    },
    {
      "cell_type": "markdown",
      "metadata": {
        "id": "EI9v09Qm6V5A"
      },
      "source": [
        "업로드 잘됬는지 확인"
      ]
    },
    {
      "cell_type": "code",
      "execution_count": null,
      "metadata": {
        "colab": {
          "base_uri": "https://localhost:8080/"
        },
        "id": "tsNIhsWc5Dzk",
        "outputId": "8b37d70a-9bae-4cd4-d758-d86d447f914d"
      },
      "outputs": [
        {
          "output_type": "stream",
          "name": "stdout",
          "text": [
            "kaggle.json\n"
          ]
        }
      ],
      "source": [
        "ls -1ha kaggle.json"
      ]
    },
    {
      "cell_type": "markdown",
      "metadata": {
        "id": "zmnw9ANV6gHi"
      },
      "source": [
        "json 파일 이동"
      ]
    },
    {
      "cell_type": "code",
      "execution_count": null,
      "metadata": {
        "id": "uCxO9sR76Sx5"
      },
      "outputs": [],
      "source": [
        "!mkdir -p ~/.kaggle\n",
        "!cp kaggle.json ~/.kaggle/\n",
        "\n",
        "# Permission Warning 방지\n",
        "!chmod 600 ~/.kaggle/kaggle.json"
      ]
    },
    {
      "cell_type": "markdown",
      "metadata": {
        "id": "GnF7Ka9i6kXb"
      },
      "source": [
        "대회 데이터셋 불러오기![dasf.PNG](data:image/png;base64,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)"
      ]
    },
    {
      "cell_type": "code",
      "execution_count": null,
      "metadata": {
        "colab": {
          "base_uri": "https://localhost:8080/"
        },
        "id": "T6fZ4HBL6ki4",
        "outputId": "c8b1248d-0f37-4377-d727-401beb1f4787"
      },
      "outputs": [
        {
          "output_type": "stream",
          "name": "stdout",
          "text": [
            "Downloading new-york-city-taxi-fare-prediction.zip to /content\n",
            "100% 1.56G/1.56G [00:20<00:00, 40.8MB/s]\n",
            "100% 1.56G/1.56G [00:20<00:00, 80.9MB/s]\n"
          ]
        }
      ],
      "source": [
        "!kaggle competitions download -c new-york-city-taxi-fare-prediction"
      ]
    },
    {
      "cell_type": "code",
      "execution_count": null,
      "metadata": {
        "colab": {
          "base_uri": "https://localhost:8080/"
        },
        "id": "U2vkMM1B7L1c",
        "outputId": "899439c7-5aa4-41d8-b098-b307c404c44a"
      },
      "outputs": [
        {
          "output_type": "stream",
          "name": "stdout",
          "text": [
            "kaggle.json  new-york-city-taxi-fare-prediction.zip  sample_data\n"
          ]
        }
      ],
      "source": [
        "!ls"
      ]
    },
    {
      "cell_type": "markdown",
      "metadata": {
        "id": "Ds7pmKy57hMJ"
      },
      "source": [
        "압축되었을때"
      ]
    },
    {
      "cell_type": "code",
      "execution_count": null,
      "metadata": {
        "colab": {
          "base_uri": "https://localhost:8080/"
        },
        "id": "rwNSZ3J67jKh",
        "outputId": "04d2c132-c2e9-4239-f433-36a9ca09fcff"
      },
      "outputs": [
        {
          "output_type": "stream",
          "name": "stdout",
          "text": [
            "Archive:  /content/new-york-city-taxi-fare-prediction.zip\n",
            "  inflating: GCP-Coupons-Instructions.rtf  \n",
            "  inflating: sample_submission.csv   \n",
            "  inflating: test.csv                \n",
            "  inflating: train.csv               \n"
          ]
        }
      ],
      "source": [
        "!unzip /content/new-york-city-taxi-fare-prediction.zip"
      ]
    },
    {
      "cell_type": "markdown",
      "metadata": {
        "id": "iCZnpLC78CYZ"
      },
      "source": [
        "# EDA"
      ]
    },
    {
      "cell_type": "code",
      "execution_count": null,
      "metadata": {
        "id": "CIRxXP2i8GuM"
      },
      "outputs": [],
      "source": [
        "# train 데이터가 너무커서 제한\n",
        "train = pd.read_csv('/content/train.csv', nrows=1000000)\n",
        "test = pd.read_csv('/content/test.csv')"
      ]
    },
    {
      "cell_type": "code",
      "execution_count": null,
      "metadata": {
        "colab": {
          "base_uri": "https://localhost:8080/",
          "height": 337
        },
        "id": "b1ACOv_hIBPx",
        "outputId": "feb71b81-048b-4a6a-9c2b-63f29020844f"
      },
      "outputs": [
        {
          "output_type": "execute_result",
          "data": {
            "text/plain": [
              "                             key  fare_amount          pickup_datetime  \\\n",
              "0    2009-06-15 17:26:21.0000001          4.5  2009-06-15 17:26:21 UTC   \n",
              "1    2010-01-05 16:52:16.0000002         16.9  2010-01-05 16:52:16 UTC   \n",
              "2   2011-08-18 00:35:00.00000049          5.7  2011-08-18 00:35:00 UTC   \n",
              "3    2012-04-21 04:30:42.0000001          7.7  2012-04-21 04:30:42 UTC   \n",
              "4  2010-03-09 07:51:00.000000135          5.3  2010-03-09 07:51:00 UTC   \n",
              "\n",
              "   pickup_longitude  pickup_latitude  dropoff_longitude  dropoff_latitude  \\\n",
              "0        -73.844311        40.721319         -73.841610         40.712278   \n",
              "1        -74.016048        40.711303         -73.979268         40.782004   \n",
              "2        -73.982738        40.761270         -73.991242         40.750562   \n",
              "3        -73.987130        40.733143         -73.991567         40.758092   \n",
              "4        -73.968095        40.768008         -73.956655         40.783762   \n",
              "\n",
              "   passenger_count  \n",
              "0                1  \n",
              "1                1  \n",
              "2                2  \n",
              "3                1  \n",
              "4                1  "
            ],
            "text/html": [
              "\n",
              "  <div id=\"df-39879bb2-bb20-46eb-baa5-b45b327be0fe\">\n",
              "    <div class=\"colab-df-container\">\n",
              "      <div>\n",
              "<style scoped>\n",
              "    .dataframe tbody tr th:only-of-type {\n",
              "        vertical-align: middle;\n",
              "    }\n",
              "\n",
              "    .dataframe tbody tr th {\n",
              "        vertical-align: top;\n",
              "    }\n",
              "\n",
              "    .dataframe thead th {\n",
              "        text-align: right;\n",
              "    }\n",
              "</style>\n",
              "<table border=\"1\" class=\"dataframe\">\n",
              "  <thead>\n",
              "    <tr style=\"text-align: right;\">\n",
              "      <th></th>\n",
              "      <th>key</th>\n",
              "      <th>fare_amount</th>\n",
              "      <th>pickup_datetime</th>\n",
              "      <th>pickup_longitude</th>\n",
              "      <th>pickup_latitude</th>\n",
              "      <th>dropoff_longitude</th>\n",
              "      <th>dropoff_latitude</th>\n",
              "      <th>passenger_count</th>\n",
              "    </tr>\n",
              "  </thead>\n",
              "  <tbody>\n",
              "    <tr>\n",
              "      <th>0</th>\n",
              "      <td>2009-06-15 17:26:21.0000001</td>\n",
              "      <td>4.5</td>\n",
              "      <td>2009-06-15 17:26:21 UTC</td>\n",
              "      <td>-73.844311</td>\n",
              "      <td>40.721319</td>\n",
              "      <td>-73.841610</td>\n",
              "      <td>40.712278</td>\n",
              "      <td>1</td>\n",
              "    </tr>\n",
              "    <tr>\n",
              "      <th>1</th>\n",
              "      <td>2010-01-05 16:52:16.0000002</td>\n",
              "      <td>16.9</td>\n",
              "      <td>2010-01-05 16:52:16 UTC</td>\n",
              "      <td>-74.016048</td>\n",
              "      <td>40.711303</td>\n",
              "      <td>-73.979268</td>\n",
              "      <td>40.782004</td>\n",
              "      <td>1</td>\n",
              "    </tr>\n",
              "    <tr>\n",
              "      <th>2</th>\n",
              "      <td>2011-08-18 00:35:00.00000049</td>\n",
              "      <td>5.7</td>\n",
              "      <td>2011-08-18 00:35:00 UTC</td>\n",
              "      <td>-73.982738</td>\n",
              "      <td>40.761270</td>\n",
              "      <td>-73.991242</td>\n",
              "      <td>40.750562</td>\n",
              "      <td>2</td>\n",
              "    </tr>\n",
              "    <tr>\n",
              "      <th>3</th>\n",
              "      <td>2012-04-21 04:30:42.0000001</td>\n",
              "      <td>7.7</td>\n",
              "      <td>2012-04-21 04:30:42 UTC</td>\n",
              "      <td>-73.987130</td>\n",
              "      <td>40.733143</td>\n",
              "      <td>-73.991567</td>\n",
              "      <td>40.758092</td>\n",
              "      <td>1</td>\n",
              "    </tr>\n",
              "    <tr>\n",
              "      <th>4</th>\n",
              "      <td>2010-03-09 07:51:00.000000135</td>\n",
              "      <td>5.3</td>\n",
              "      <td>2010-03-09 07:51:00 UTC</td>\n",
              "      <td>-73.968095</td>\n",
              "      <td>40.768008</td>\n",
              "      <td>-73.956655</td>\n",
              "      <td>40.783762</td>\n",
              "      <td>1</td>\n",
              "    </tr>\n",
              "  </tbody>\n",
              "</table>\n",
              "</div>\n",
              "      <button class=\"colab-df-convert\" onclick=\"convertToInteractive('df-39879bb2-bb20-46eb-baa5-b45b327be0fe')\"\n",
              "              title=\"Convert this dataframe to an interactive table.\"\n",
              "              style=\"display:none;\">\n",
              "        \n",
              "  <svg xmlns=\"http://www.w3.org/2000/svg\" height=\"24px\"viewBox=\"0 0 24 24\"\n",
              "       width=\"24px\">\n",
              "    <path d=\"M0 0h24v24H0V0z\" fill=\"none\"/>\n",
              "    <path d=\"M18.56 5.44l.94 2.06.94-2.06 2.06-.94-2.06-.94-.94-2.06-.94 2.06-2.06.94zm-11 1L8.5 8.5l.94-2.06 2.06-.94-2.06-.94L8.5 2.5l-.94 2.06-2.06.94zm10 10l.94 2.06.94-2.06 2.06-.94-2.06-.94-.94-2.06-.94 2.06-2.06.94z\"/><path d=\"M17.41 7.96l-1.37-1.37c-.4-.4-.92-.59-1.43-.59-.52 0-1.04.2-1.43.59L10.3 9.45l-7.72 7.72c-.78.78-.78 2.05 0 2.83L4 21.41c.39.39.9.59 1.41.59.51 0 1.02-.2 1.41-.59l7.78-7.78 2.81-2.81c.8-.78.8-2.07 0-2.86zM5.41 20L4 18.59l7.72-7.72 1.47 1.35L5.41 20z\"/>\n",
              "  </svg>\n",
              "      </button>\n",
              "      \n",
              "  <style>\n",
              "    .colab-df-container {\n",
              "      display:flex;\n",
              "      flex-wrap:wrap;\n",
              "      gap: 12px;\n",
              "    }\n",
              "\n",
              "    .colab-df-convert {\n",
              "      background-color: #E8F0FE;\n",
              "      border: none;\n",
              "      border-radius: 50%;\n",
              "      cursor: pointer;\n",
              "      display: none;\n",
              "      fill: #1967D2;\n",
              "      height: 32px;\n",
              "      padding: 0 0 0 0;\n",
              "      width: 32px;\n",
              "    }\n",
              "\n",
              "    .colab-df-convert:hover {\n",
              "      background-color: #E2EBFA;\n",
              "      box-shadow: 0px 1px 2px rgba(60, 64, 67, 0.3), 0px 1px 3px 1px rgba(60, 64, 67, 0.15);\n",
              "      fill: #174EA6;\n",
              "    }\n",
              "\n",
              "    [theme=dark] .colab-df-convert {\n",
              "      background-color: #3B4455;\n",
              "      fill: #D2E3FC;\n",
              "    }\n",
              "\n",
              "    [theme=dark] .colab-df-convert:hover {\n",
              "      background-color: #434B5C;\n",
              "      box-shadow: 0px 1px 3px 1px rgba(0, 0, 0, 0.15);\n",
              "      filter: drop-shadow(0px 1px 2px rgba(0, 0, 0, 0.3));\n",
              "      fill: #FFFFFF;\n",
              "    }\n",
              "  </style>\n",
              "\n",
              "      <script>\n",
              "        const buttonEl =\n",
              "          document.querySelector('#df-39879bb2-bb20-46eb-baa5-b45b327be0fe button.colab-df-convert');\n",
              "        buttonEl.style.display =\n",
              "          google.colab.kernel.accessAllowed ? 'block' : 'none';\n",
              "\n",
              "        async function convertToInteractive(key) {\n",
              "          const element = document.querySelector('#df-39879bb2-bb20-46eb-baa5-b45b327be0fe');\n",
              "          const dataTable =\n",
              "            await google.colab.kernel.invokeFunction('convertToInteractive',\n",
              "                                                     [key], {});\n",
              "          if (!dataTable) return;\n",
              "\n",
              "          const docLinkHtml = 'Like what you see? Visit the ' +\n",
              "            '<a target=\"_blank\" href=https://colab.research.google.com/notebooks/data_table.ipynb>data table notebook</a>'\n",
              "            + ' to learn more about interactive tables.';\n",
              "          element.innerHTML = '';\n",
              "          dataTable['output_type'] = 'display_data';\n",
              "          await google.colab.output.renderOutput(dataTable, element);\n",
              "          const docLink = document.createElement('div');\n",
              "          docLink.innerHTML = docLinkHtml;\n",
              "          element.appendChild(docLink);\n",
              "        }\n",
              "      </script>\n",
              "    </div>\n",
              "  </div>\n",
              "  "
            ]
          },
          "metadata": {},
          "execution_count": 11
        }
      ],
      "source": [
        "train.head()"
      ]
    },
    {
      "cell_type": "code",
      "execution_count": null,
      "metadata": {
        "colab": {
          "base_uri": "https://localhost:8080/"
        },
        "id": "OrYxOH6LAis0",
        "outputId": "9f301636-0549-4d96-9897-366e51d551bc"
      },
      "outputs": [
        {
          "output_type": "stream",
          "name": "stdout",
          "text": [
            "<class 'pandas.core.frame.DataFrame'>\n",
            "RangeIndex: 1000000 entries, 0 to 999999\n",
            "Data columns (total 8 columns):\n",
            " #   Column             Non-Null Count    Dtype  \n",
            "---  ------             --------------    -----  \n",
            " 0   key                1000000 non-null  object \n",
            " 1   fare_amount        1000000 non-null  float64\n",
            " 2   pickup_datetime    1000000 non-null  object \n",
            " 3   pickup_longitude   1000000 non-null  float64\n",
            " 4   pickup_latitude    1000000 non-null  float64\n",
            " 5   dropoff_longitude  999990 non-null   float64\n",
            " 6   dropoff_latitude   999990 non-null   float64\n",
            " 7   passenger_count    1000000 non-null  int64  \n",
            "dtypes: float64(5), int64(1), object(2)\n",
            "memory usage: 61.0+ MB\n"
          ]
        }
      ],
      "source": [
        "train.info()"
      ]
    },
    {
      "cell_type": "code",
      "execution_count": null,
      "metadata": {
        "colab": {
          "base_uri": "https://localhost:8080/"
        },
        "id": "3Yx-TQWyHriN",
        "outputId": "fff9f330-e2aa-452e-909b-e28e6f927047"
      },
      "outputs": [
        {
          "output_type": "execute_result",
          "data": {
            "text/plain": [
              "key                   0\n",
              "fare_amount           0\n",
              "pickup_datetime       0\n",
              "pickup_longitude      0\n",
              "pickup_latitude       0\n",
              "dropoff_longitude    10\n",
              "dropoff_latitude     10\n",
              "passenger_count       0\n",
              "dtype: int64"
            ]
          },
          "metadata": {},
          "execution_count": 13
        }
      ],
      "source": [
        "train.isna().sum()"
      ]
    },
    {
      "cell_type": "markdown",
      "metadata": {
        "id": "AsKzYj0PKBtM"
      },
      "source": [
        "결측치 행 제외"
      ]
    },
    {
      "cell_type": "code",
      "execution_count": null,
      "metadata": {
        "colab": {
          "base_uri": "https://localhost:8080/"
        },
        "id": "ggwydPEBJ-r3",
        "outputId": "fb8862c9-710c-4129-8c77-0931a39dcec8"
      },
      "outputs": [
        {
          "output_type": "stream",
          "name": "stdout",
          "text": [
            "<class 'pandas.core.frame.DataFrame'>\n",
            "Int64Index: 999990 entries, 0 to 999999\n",
            "Data columns (total 8 columns):\n",
            " #   Column             Non-Null Count   Dtype  \n",
            "---  ------             --------------   -----  \n",
            " 0   key                999990 non-null  object \n",
            " 1   fare_amount        999990 non-null  float64\n",
            " 2   pickup_datetime    999990 non-null  object \n",
            " 3   pickup_longitude   999990 non-null  float64\n",
            " 4   pickup_latitude    999990 non-null  float64\n",
            " 5   dropoff_longitude  999990 non-null  float64\n",
            " 6   dropoff_latitude   999990 non-null  float64\n",
            " 7   passenger_count    999990 non-null  int64  \n",
            "dtypes: float64(5), int64(1), object(2)\n",
            "memory usage: 68.7+ MB\n"
          ]
        }
      ],
      "source": [
        "train = train.dropna()\n",
        "train.info()"
      ]
    },
    {
      "cell_type": "code",
      "execution_count": null,
      "metadata": {
        "colab": {
          "base_uri": "https://localhost:8080/"
        },
        "id": "Srbb818gKWcA",
        "outputId": "2eacd6b4-e8b4-4f0b-9998-ddbfdedad6e9"
      },
      "outputs": [
        {
          "output_type": "stream",
          "name": "stdout",
          "text": [
            "<class 'pandas.core.frame.DataFrame'>\n",
            "RangeIndex: 9914 entries, 0 to 9913\n",
            "Data columns (total 7 columns):\n",
            " #   Column             Non-Null Count  Dtype  \n",
            "---  ------             --------------  -----  \n",
            " 0   key                9914 non-null   object \n",
            " 1   pickup_datetime    9914 non-null   object \n",
            " 2   pickup_longitude   9914 non-null   float64\n",
            " 3   pickup_latitude    9914 non-null   float64\n",
            " 4   dropoff_longitude  9914 non-null   float64\n",
            " 5   dropoff_latitude   9914 non-null   float64\n",
            " 6   passenger_count    9914 non-null   int64  \n",
            "dtypes: float64(4), int64(1), object(2)\n",
            "memory usage: 542.3+ KB\n"
          ]
        }
      ],
      "source": [
        "test.info()"
      ]
    },
    {
      "cell_type": "code",
      "execution_count": null,
      "metadata": {
        "id": "Z30OOLrIKb9k"
      },
      "outputs": [],
      "source": [
        "x_train = train.copy()\n",
        "y_train = x_train.pop('fare_amount')\n",
        "x_test = test.copy()\n",
        "x_train = x_train.drop('key', axis = 1)\n",
        "x_test = x_test.drop('key', axis = 1)"
      ]
    },
    {
      "cell_type": "markdown",
      "metadata": {
        "id": "fabAjcB6MUk1"
      },
      "source": [
        "날짜 처리(연, 월, 일(주말), 시간)"
      ]
    },
    {
      "cell_type": "code",
      "execution_count": null,
      "metadata": {
        "id": "rjG7A90MMmjg"
      },
      "outputs": [],
      "source": [
        "x_train['year'] = pd.to_datetime(x_train['pickup_datetime']).dt.year\n",
        "x_train['month'] = pd.to_datetime(x_train['pickup_datetime']).dt.month\n",
        "x_train['weekday'] = pd.to_datetime(x_train['pickup_datetime']).dt.weekday\n",
        "x_train['hour'] = pd.to_datetime(x_train['pickup_datetime']).dt.hour"
      ]
    },
    {
      "cell_type": "code",
      "execution_count": null,
      "metadata": {
        "id": "OlGvf87FtimM"
      },
      "outputs": [],
      "source": [
        "x_test['year'] = pd.to_datetime(x_test['pickup_datetime']).dt.year\n",
        "x_test['month'] = pd.to_datetime(x_test['pickup_datetime']).dt.month\n",
        "x_test['weekday'] = pd.to_datetime(x_test['pickup_datetime']).dt.weekday\n",
        "x_test['hour'] = pd.to_datetime(x_test['pickup_datetime']).dt.hour"
      ]
    },
    {
      "cell_type": "code",
      "execution_count": null,
      "metadata": {
        "colab": {
          "base_uri": "https://localhost:8080/",
          "height": 340
        },
        "id": "9uEdziUURZi7",
        "outputId": "4615ea6b-b0f9-4ab2-8f10-00595c966876"
      },
      "outputs": [
        {
          "output_type": "stream",
          "name": "stderr",
          "text": [
            "/usr/local/lib/python3.7/dist-packages/seaborn/_decorators.py:43: FutureWarning: Pass the following variables as keyword args: x, y. From version 0.12, the only valid positional argument will be `data`, and passing other arguments without an explicit keyword will result in an error or misinterpretation.\n",
            "  FutureWarning\n",
            "findfont: Font family ['NanumBarunGothic'] not found. Falling back to DejaVu Sans.\n"
          ]
        },
        {
          "output_type": "display_data",
          "data": {
            "text/plain": [
              "<Figure size 432x288 with 1 Axes>"
            ],
            "image/png": "[encoded data removed]"
          },
          "metadata": {
            "needs_background": "light"
          }
        }
      ],
      "source": [
        "sns.barplot(x_train.year.value_counts().index, x_train.year.value_counts().values)\n",
        "plt.show()"
      ]
    },
    {
      "cell_type": "code",
      "execution_count": null,
      "metadata": {
        "colab": {
          "base_uri": "https://localhost:8080/",
          "height": 1000
        },
        "id": "HdwA4uDoSahj",
        "outputId": "27026419-33b4-4734-f939-efde0a2dd1f9"
      },
      "outputs": [
        {
          "output_type": "stream",
          "name": "stderr",
          "text": [
            "/usr/local/lib/python3.7/dist-packages/seaborn/_decorators.py:43: FutureWarning: Pass the following variables as keyword args: x, y. From version 0.12, the only valid positional argument will be `data`, and passing other arguments without an explicit keyword will result in an error or misinterpretation.\n",
            "  FutureWarning\n",
            "findfont: Font family ['NanumBarunGothic'] not found. Falling back to DejaVu Sans.\n",
            "/usr/local/lib/python3.7/dist-packages/matplotlib/backends/backend_agg.py:214: RuntimeWarning: Glyph 50672 missing from current font.\n",
            "  font.set_text(s, 0.0, flags=flags)\n",
            "/usr/local/lib/python3.7/dist-packages/matplotlib/backends/backend_agg.py:214: RuntimeWarning: Glyph 46020 missing from current font.\n",
            "  font.set_text(s, 0.0, flags=flags)\n",
            "/usr/local/lib/python3.7/dist-packages/matplotlib/backends/backend_agg.py:214: RuntimeWarning: Glyph 50752 missing from current font.\n",
            "  font.set_text(s, 0.0, flags=flags)\n",
            "/usr/local/lib/python3.7/dist-packages/matplotlib/backends/backend_agg.py:214: RuntimeWarning: Glyph 44552 missing from current font.\n",
            "  font.set_text(s, 0.0, flags=flags)\n",
            "/usr/local/lib/python3.7/dist-packages/matplotlib/backends/backend_agg.py:214: RuntimeWarning: Glyph 50529 missing from current font.\n",
            "  font.set_text(s, 0.0, flags=flags)\n",
            "/usr/local/lib/python3.7/dist-packages/matplotlib/backends/backend_agg.py:214: RuntimeWarning: Glyph 51032 missing from current font.\n",
            "  font.set_text(s, 0.0, flags=flags)\n",
            "/usr/local/lib/python3.7/dist-packages/matplotlib/backends/backend_agg.py:214: RuntimeWarning: Glyph 44288 missing from current font.\n",
            "  font.set_text(s, 0.0, flags=flags)\n",
            "/usr/local/lib/python3.7/dist-packages/matplotlib/backends/backend_agg.py:214: RuntimeWarning: Glyph 49457 missing from current font.\n",
            "  font.set_text(s, 0.0, flags=flags)\n",
            "/usr/local/lib/python3.7/dist-packages/matplotlib/backends/backend_agg.py:214: RuntimeWarning: Glyph 49345 missing from current font.\n",
            "  font.set_text(s, 0.0, flags=flags)\n",
            "/usr/local/lib/python3.7/dist-packages/matplotlib/backends/backend_agg.py:214: RuntimeWarning: Glyph 44228 missing from current font.\n",
            "  font.set_text(s, 0.0, flags=flags)\n",
            "/usr/local/lib/python3.7/dist-packages/matplotlib/backends/backend_agg.py:214: RuntimeWarning: Glyph 49688 missing from current font.\n",
            "  font.set_text(s, 0.0, flags=flags)\n",
            "/usr/local/lib/python3.7/dist-packages/matplotlib/backends/backend_agg.py:183: RuntimeWarning: Glyph 50672 missing from current font.\n",
            "  font.set_text(s, 0, flags=flags)\n",
            "/usr/local/lib/python3.7/dist-packages/matplotlib/backends/backend_agg.py:183: RuntimeWarning: Glyph 46020 missing from current font.\n",
            "  font.set_text(s, 0, flags=flags)\n",
            "/usr/local/lib/python3.7/dist-packages/matplotlib/backends/backend_agg.py:183: RuntimeWarning: Glyph 50752 missing from current font.\n",
            "  font.set_text(s, 0, flags=flags)\n",
            "/usr/local/lib/python3.7/dist-packages/matplotlib/backends/backend_agg.py:183: RuntimeWarning: Glyph 44552 missing from current font.\n",
            "  font.set_text(s, 0, flags=flags)\n",
            "/usr/local/lib/python3.7/dist-packages/matplotlib/backends/backend_agg.py:183: RuntimeWarning: Glyph 50529 missing from current font.\n",
            "  font.set_text(s, 0, flags=flags)\n",
            "/usr/local/lib/python3.7/dist-packages/matplotlib/backends/backend_agg.py:183: RuntimeWarning: Glyph 51032 missing from current font.\n",
            "  font.set_text(s, 0, flags=flags)\n",
            "/usr/local/lib/python3.7/dist-packages/matplotlib/backends/backend_agg.py:183: RuntimeWarning: Glyph 44288 missing from current font.\n",
            "  font.set_text(s, 0, flags=flags)\n",
            "/usr/local/lib/python3.7/dist-packages/matplotlib/backends/backend_agg.py:183: RuntimeWarning: Glyph 49457 missing from current font.\n",
            "  font.set_text(s, 0, flags=flags)\n",
            "/usr/local/lib/python3.7/dist-packages/matplotlib/backends/backend_agg.py:183: RuntimeWarning: Glyph 49345 missing from current font.\n",
            "  font.set_text(s, 0, flags=flags)\n",
            "/usr/local/lib/python3.7/dist-packages/matplotlib/backends/backend_agg.py:183: RuntimeWarning: Glyph 44228 missing from current font.\n",
            "  font.set_text(s, 0, flags=flags)\n",
            "/usr/local/lib/python3.7/dist-packages/matplotlib/backends/backend_agg.py:183: RuntimeWarning: Glyph 49688 missing from current font.\n",
            "  font.set_text(s, 0, flags=flags)\n"
          ]
        },
        {
          "output_type": "display_data",
          "data": {
            "text/plain": [
              "<Figure size 432x288 with 1 Axes>"
            ],
            "image/png": "[encoded data removed]"
          },
          "metadata": {
            "needs_background": "light"
          }
        }
      ],
      "source": [
        "year_sc = pd.concat([x_train['year'],y_train], axis = 1)\n",
        "sns.scatterplot(year_sc['year'], year_sc['fare_amount'])\n",
        "a = round(year_sc.corr()['year'][1],4)\n",
        "plt.title(f'연도와 금액의 연관성 상관계수 : {a}')\n",
        "plt.show()"
      ]
    },
    {
      "cell_type": "code",
      "execution_count": null,
      "metadata": {
        "colab": {
          "base_uri": "https://localhost:8080/",
          "height": 322
        },
        "id": "63M54P-HaYPA",
        "outputId": "fa57eb95-73d2-470d-de99-3e09e4230ff3"
      },
      "outputs": [
        {
          "output_type": "stream",
          "name": "stderr",
          "text": [
            "/usr/local/lib/python3.7/dist-packages/seaborn/_decorators.py:43: FutureWarning: Pass the following variables as keyword args: x, y. From version 0.12, the only valid positional argument will be `data`, and passing other arguments without an explicit keyword will result in an error or misinterpretation.\n",
            "  FutureWarning\n"
          ]
        },
        {
          "output_type": "display_data",
          "data": {
            "text/plain": [
              "<Figure size 432x288 with 1 Axes>"
            ],
            "image/png": "[encoded data removed]"
          },
          "metadata": {
            "needs_background": "light"
          }
        }
      ],
      "source": [
        "sns.barplot(x_train.month.value_counts().index, x_train.month.value_counts().values)\n",
        "plt.show()"
      ]
    },
    {
      "cell_type": "code",
      "execution_count": null,
      "metadata": {
        "colab": {
          "base_uri": "https://localhost:8080/",
          "height": 1000
        },
        "id": "eltT2gnPanex",
        "outputId": "6807e117-031c-4ce0-c287-92411af8f08d"
      },
      "outputs": [
        {
          "output_type": "stream",
          "name": "stderr",
          "text": [
            "/usr/local/lib/python3.7/dist-packages/seaborn/_decorators.py:43: FutureWarning: Pass the following variables as keyword args: x, y. From version 0.12, the only valid positional argument will be `data`, and passing other arguments without an explicit keyword will result in an error or misinterpretation.\n",
            "  FutureWarning\n",
            "/usr/local/lib/python3.7/dist-packages/matplotlib/backends/backend_agg.py:214: RuntimeWarning: Glyph 50900 missing from current font.\n",
            "  font.set_text(s, 0.0, flags=flags)\n",
            "/usr/local/lib/python3.7/dist-packages/matplotlib/backends/backend_agg.py:214: RuntimeWarning: Glyph 44284 missing from current font.\n",
            "  font.set_text(s, 0.0, flags=flags)\n",
            "/usr/local/lib/python3.7/dist-packages/matplotlib/backends/backend_agg.py:214: RuntimeWarning: Glyph 44552 missing from current font.\n",
            "  font.set_text(s, 0.0, flags=flags)\n",
            "/usr/local/lib/python3.7/dist-packages/matplotlib/backends/backend_agg.py:214: RuntimeWarning: Glyph 50529 missing from current font.\n",
            "  font.set_text(s, 0.0, flags=flags)\n",
            "/usr/local/lib/python3.7/dist-packages/matplotlib/backends/backend_agg.py:214: RuntimeWarning: Glyph 51032 missing from current font.\n",
            "  font.set_text(s, 0.0, flags=flags)\n",
            "/usr/local/lib/python3.7/dist-packages/matplotlib/backends/backend_agg.py:214: RuntimeWarning: Glyph 50672 missing from current font.\n",
            "  font.set_text(s, 0.0, flags=flags)\n",
            "/usr/local/lib/python3.7/dist-packages/matplotlib/backends/backend_agg.py:214: RuntimeWarning: Glyph 44288 missing from current font.\n",
            "  font.set_text(s, 0.0, flags=flags)\n",
            "/usr/local/lib/python3.7/dist-packages/matplotlib/backends/backend_agg.py:214: RuntimeWarning: Glyph 49457 missing from current font.\n",
            "  font.set_text(s, 0.0, flags=flags)\n",
            "/usr/local/lib/python3.7/dist-packages/matplotlib/backends/backend_agg.py:214: RuntimeWarning: Glyph 49345 missing from current font.\n",
            "  font.set_text(s, 0.0, flags=flags)\n",
            "/usr/local/lib/python3.7/dist-packages/matplotlib/backends/backend_agg.py:214: RuntimeWarning: Glyph 44228 missing from current font.\n",
            "  font.set_text(s, 0.0, flags=flags)\n",
            "/usr/local/lib/python3.7/dist-packages/matplotlib/backends/backend_agg.py:214: RuntimeWarning: Glyph 49688 missing from current font.\n",
            "  font.set_text(s, 0.0, flags=flags)\n",
            "/usr/local/lib/python3.7/dist-packages/matplotlib/backends/backend_agg.py:183: RuntimeWarning: Glyph 50900 missing from current font.\n",
            "  font.set_text(s, 0, flags=flags)\n",
            "/usr/local/lib/python3.7/dist-packages/matplotlib/backends/backend_agg.py:183: RuntimeWarning: Glyph 44284 missing from current font.\n",
            "  font.set_text(s, 0, flags=flags)\n",
            "/usr/local/lib/python3.7/dist-packages/matplotlib/backends/backend_agg.py:183: RuntimeWarning: Glyph 44552 missing from current font.\n",
            "  font.set_text(s, 0, flags=flags)\n",
            "/usr/local/lib/python3.7/dist-packages/matplotlib/backends/backend_agg.py:183: RuntimeWarning: Glyph 50529 missing from current font.\n",
            "  font.set_text(s, 0, flags=flags)\n",
            "/usr/local/lib/python3.7/dist-packages/matplotlib/backends/backend_agg.py:183: RuntimeWarning: Glyph 51032 missing from current font.\n",
            "  font.set_text(s, 0, flags=flags)\n",
            "/usr/local/lib/python3.7/dist-packages/matplotlib/backends/backend_agg.py:183: RuntimeWarning: Glyph 50672 missing from current font.\n",
            "  font.set_text(s, 0, flags=flags)\n",
            "/usr/local/lib/python3.7/dist-packages/matplotlib/backends/backend_agg.py:183: RuntimeWarning: Glyph 44288 missing from current font.\n",
            "  font.set_text(s, 0, flags=flags)\n",
            "/usr/local/lib/python3.7/dist-packages/matplotlib/backends/backend_agg.py:183: RuntimeWarning: Glyph 49457 missing from current font.\n",
            "  font.set_text(s, 0, flags=flags)\n",
            "/usr/local/lib/python3.7/dist-packages/matplotlib/backends/backend_agg.py:183: RuntimeWarning: Glyph 49345 missing from current font.\n",
            "  font.set_text(s, 0, flags=flags)\n",
            "/usr/local/lib/python3.7/dist-packages/matplotlib/backends/backend_agg.py:183: RuntimeWarning: Glyph 44228 missing from current font.\n",
            "  font.set_text(s, 0, flags=flags)\n",
            "/usr/local/lib/python3.7/dist-packages/matplotlib/backends/backend_agg.py:183: RuntimeWarning: Glyph 49688 missing from current font.\n",
            "  font.set_text(s, 0, flags=flags)\n"
          ]
        },
        {
          "output_type": "display_data",
          "data": {
            "text/plain": [
              "<Figure size 432x288 with 1 Axes>"
            ],
            "image/png": "[encoded data removed]"
          },
          "metadata": {
            "needs_background": "light"
          }
        }
      ],
      "source": [
        "month_sc = pd.concat([x_train['month'],y_train], axis = 1)\n",
        "sns.scatterplot(month_sc['month'], month_sc['fare_amount'])\n",
        "a = round(month_sc.corr()['month'][1],4)\n",
        "plt.title(f'월과 금액의 연관성 상관계수 : {a}')\n",
        "plt.show()"
      ]
    },
    {
      "cell_type": "code",
      "execution_count": null,
      "metadata": {
        "colab": {
          "base_uri": "https://localhost:8080/",
          "height": 324
        },
        "id": "t-rXEvD1a4Ev",
        "outputId": "6b17296c-7eea-4d82-922d-355443536be2"
      },
      "outputs": [
        {
          "output_type": "stream",
          "name": "stderr",
          "text": [
            "/usr/local/lib/python3.7/dist-packages/seaborn/_decorators.py:43: FutureWarning: Pass the following variables as keyword args: x, y. From version 0.12, the only valid positional argument will be `data`, and passing other arguments without an explicit keyword will result in an error or misinterpretation.\n",
            "  FutureWarning\n"
          ]
        },
        {
          "output_type": "display_data",
          "data": {
            "text/plain": [
              "<Figure size 432x288 with 1 Axes>"
            ],
            "image/png": "[encoded data removed]"
          },
          "metadata": {
            "needs_background": "light"
          }
        }
      ],
      "source": [
        "sns.barplot(x_train.weekday.value_counts().index, x_train.weekday.value_counts().values)\n",
        "plt.show()"
      ]
    },
    {
      "cell_type": "code",
      "execution_count": null,
      "metadata": {
        "colab": {
          "base_uri": "https://localhost:8080/",
          "height": 1000
        },
        "id": "yN1_4hrvbC0x",
        "outputId": "5236c43d-4751-4df8-e67f-aadaef1a431e"
      },
      "outputs": [
        {
          "output_type": "stream",
          "name": "stderr",
          "text": [
            "/usr/local/lib/python3.7/dist-packages/seaborn/_decorators.py:43: FutureWarning: Pass the following variables as keyword args: x, y. From version 0.12, the only valid positional argument will be `data`, and passing other arguments without an explicit keyword will result in an error or misinterpretation.\n",
            "  FutureWarning\n",
            "/usr/local/lib/python3.7/dist-packages/matplotlib/backends/backend_agg.py:214: RuntimeWarning: Glyph 51068 missing from current font.\n",
            "  font.set_text(s, 0.0, flags=flags)\n",
            "/usr/local/lib/python3.7/dist-packages/matplotlib/backends/backend_agg.py:214: RuntimeWarning: Glyph 44284 missing from current font.\n",
            "  font.set_text(s, 0.0, flags=flags)\n",
            "/usr/local/lib/python3.7/dist-packages/matplotlib/backends/backend_agg.py:214: RuntimeWarning: Glyph 44552 missing from current font.\n",
            "  font.set_text(s, 0.0, flags=flags)\n",
            "/usr/local/lib/python3.7/dist-packages/matplotlib/backends/backend_agg.py:214: RuntimeWarning: Glyph 50529 missing from current font.\n",
            "  font.set_text(s, 0.0, flags=flags)\n",
            "/usr/local/lib/python3.7/dist-packages/matplotlib/backends/backend_agg.py:214: RuntimeWarning: Glyph 51032 missing from current font.\n",
            "  font.set_text(s, 0.0, flags=flags)\n",
            "/usr/local/lib/python3.7/dist-packages/matplotlib/backends/backend_agg.py:214: RuntimeWarning: Glyph 50672 missing from current font.\n",
            "  font.set_text(s, 0.0, flags=flags)\n",
            "/usr/local/lib/python3.7/dist-packages/matplotlib/backends/backend_agg.py:214: RuntimeWarning: Glyph 44288 missing from current font.\n",
            "  font.set_text(s, 0.0, flags=flags)\n",
            "/usr/local/lib/python3.7/dist-packages/matplotlib/backends/backend_agg.py:214: RuntimeWarning: Glyph 49457 missing from current font.\n",
            "  font.set_text(s, 0.0, flags=flags)\n",
            "/usr/local/lib/python3.7/dist-packages/matplotlib/backends/backend_agg.py:214: RuntimeWarning: Glyph 49345 missing from current font.\n",
            "  font.set_text(s, 0.0, flags=flags)\n",
            "/usr/local/lib/python3.7/dist-packages/matplotlib/backends/backend_agg.py:214: RuntimeWarning: Glyph 44228 missing from current font.\n",
            "  font.set_text(s, 0.0, flags=flags)\n",
            "/usr/local/lib/python3.7/dist-packages/matplotlib/backends/backend_agg.py:214: RuntimeWarning: Glyph 49688 missing from current font.\n",
            "  font.set_text(s, 0.0, flags=flags)\n",
            "/usr/local/lib/python3.7/dist-packages/matplotlib/backends/backend_agg.py:183: RuntimeWarning: Glyph 51068 missing from current font.\n",
            "  font.set_text(s, 0, flags=flags)\n",
            "/usr/local/lib/python3.7/dist-packages/matplotlib/backends/backend_agg.py:183: RuntimeWarning: Glyph 44284 missing from current font.\n",
            "  font.set_text(s, 0, flags=flags)\n",
            "/usr/local/lib/python3.7/dist-packages/matplotlib/backends/backend_agg.py:183: RuntimeWarning: Glyph 44552 missing from current font.\n",
            "  font.set_text(s, 0, flags=flags)\n",
            "/usr/local/lib/python3.7/dist-packages/matplotlib/backends/backend_agg.py:183: RuntimeWarning: Glyph 50529 missing from current font.\n",
            "  font.set_text(s, 0, flags=flags)\n",
            "/usr/local/lib/python3.7/dist-packages/matplotlib/backends/backend_agg.py:183: RuntimeWarning: Glyph 51032 missing from current font.\n",
            "  font.set_text(s, 0, flags=flags)\n",
            "/usr/local/lib/python3.7/dist-packages/matplotlib/backends/backend_agg.py:183: RuntimeWarning: Glyph 50672 missing from current font.\n",
            "  font.set_text(s, 0, flags=flags)\n",
            "/usr/local/lib/python3.7/dist-packages/matplotlib/backends/backend_agg.py:183: RuntimeWarning: Glyph 44288 missing from current font.\n",
            "  font.set_text(s, 0, flags=flags)\n",
            "/usr/local/lib/python3.7/dist-packages/matplotlib/backends/backend_agg.py:183: RuntimeWarning: Glyph 49457 missing from current font.\n",
            "  font.set_text(s, 0, flags=flags)\n",
            "/usr/local/lib/python3.7/dist-packages/matplotlib/backends/backend_agg.py:183: RuntimeWarning: Glyph 49345 missing from current font.\n",
            "  font.set_text(s, 0, flags=flags)\n",
            "/usr/local/lib/python3.7/dist-packages/matplotlib/backends/backend_agg.py:183: RuntimeWarning: Glyph 44228 missing from current font.\n",
            "  font.set_text(s, 0, flags=flags)\n",
            "/usr/local/lib/python3.7/dist-packages/matplotlib/backends/backend_agg.py:183: RuntimeWarning: Glyph 49688 missing from current font.\n",
            "  font.set_text(s, 0, flags=flags)\n"
          ]
        },
        {
          "output_type": "display_data",
          "data": {
            "text/plain": [
              "<Figure size 432x288 with 1 Axes>"
            ],
            "image/png": "[encoded data removed]"
          },
          "metadata": {
            "needs_background": "light"
          }
        }
      ],
      "source": [
        "weekday_sc = pd.concat([x_train['weekday'],y_train], axis = 1)\n",
        "sns.scatterplot(weekday_sc['weekday'], weekday_sc['fare_amount'])\n",
        "a = round(weekday_sc.corr()['weekday'][1],4)\n",
        "plt.title(f'일과 금액의 연관성 상관계수 : {a}')\n",
        "plt.show()"
      ]
    },
    {
      "cell_type": "code",
      "execution_count": null,
      "metadata": {
        "colab": {
          "base_uri": "https://localhost:8080/",
          "height": 322
        },
        "id": "4OoAfD48b6Wv",
        "outputId": "6b2d04a6-8ac5-48a4-a109-efbf7effc502"
      },
      "outputs": [
        {
          "output_type": "stream",
          "name": "stderr",
          "text": [
            "/usr/local/lib/python3.7/dist-packages/seaborn/_decorators.py:43: FutureWarning: Pass the following variables as keyword args: x, y. From version 0.12, the only valid positional argument will be `data`, and passing other arguments without an explicit keyword will result in an error or misinterpretation.\n",
            "  FutureWarning\n"
          ]
        },
        {
          "output_type": "display_data",
          "data": {
            "text/plain": [
              "<Figure size 432x288 with 1 Axes>"
            ],
            "image/png": "[encoded data removed]"
          },
          "metadata": {
            "needs_background": "light"
          }
        }
      ],
      "source": [
        "sns.barplot(x_train.hour.value_counts().index, x_train.hour.value_counts().values)\n",
        "plt.show()"
      ]
    },
    {
      "cell_type": "code",
      "execution_count": null,
      "metadata": {
        "colab": {
          "base_uri": "https://localhost:8080/",
          "height": 1000
        },
        "id": "6-2J-HrdcC7a",
        "outputId": "2c483783-2a2f-4784-af21-0d97eff4fabc"
      },
      "outputs": [
        {
          "output_type": "stream",
          "name": "stderr",
          "text": [
            "/usr/local/lib/python3.7/dist-packages/seaborn/_decorators.py:43: FutureWarning: Pass the following variables as keyword args: x, y. From version 0.12, the only valid positional argument will be `data`, and passing other arguments without an explicit keyword will result in an error or misinterpretation.\n",
            "  FutureWarning\n",
            "/usr/local/lib/python3.7/dist-packages/matplotlib/backends/backend_agg.py:214: RuntimeWarning: Glyph 49884 missing from current font.\n",
            "  font.set_text(s, 0.0, flags=flags)\n",
            "/usr/local/lib/python3.7/dist-packages/matplotlib/backends/backend_agg.py:214: RuntimeWarning: Glyph 44036 missing from current font.\n",
            "  font.set_text(s, 0.0, flags=flags)\n",
            "/usr/local/lib/python3.7/dist-packages/matplotlib/backends/backend_agg.py:214: RuntimeWarning: Glyph 44284 missing from current font.\n",
            "  font.set_text(s, 0.0, flags=flags)\n",
            "/usr/local/lib/python3.7/dist-packages/matplotlib/backends/backend_agg.py:214: RuntimeWarning: Glyph 44552 missing from current font.\n",
            "  font.set_text(s, 0.0, flags=flags)\n",
            "/usr/local/lib/python3.7/dist-packages/matplotlib/backends/backend_agg.py:214: RuntimeWarning: Glyph 50529 missing from current font.\n",
            "  font.set_text(s, 0.0, flags=flags)\n",
            "/usr/local/lib/python3.7/dist-packages/matplotlib/backends/backend_agg.py:214: RuntimeWarning: Glyph 51032 missing from current font.\n",
            "  font.set_text(s, 0.0, flags=flags)\n",
            "/usr/local/lib/python3.7/dist-packages/matplotlib/backends/backend_agg.py:214: RuntimeWarning: Glyph 50672 missing from current font.\n",
            "  font.set_text(s, 0.0, flags=flags)\n",
            "/usr/local/lib/python3.7/dist-packages/matplotlib/backends/backend_agg.py:214: RuntimeWarning: Glyph 44288 missing from current font.\n",
            "  font.set_text(s, 0.0, flags=flags)\n",
            "/usr/local/lib/python3.7/dist-packages/matplotlib/backends/backend_agg.py:214: RuntimeWarning: Glyph 49457 missing from current font.\n",
            "  font.set_text(s, 0.0, flags=flags)\n",
            "/usr/local/lib/python3.7/dist-packages/matplotlib/backends/backend_agg.py:214: RuntimeWarning: Glyph 49345 missing from current font.\n",
            "  font.set_text(s, 0.0, flags=flags)\n",
            "/usr/local/lib/python3.7/dist-packages/matplotlib/backends/backend_agg.py:214: RuntimeWarning: Glyph 44228 missing from current font.\n",
            "  font.set_text(s, 0.0, flags=flags)\n",
            "/usr/local/lib/python3.7/dist-packages/matplotlib/backends/backend_agg.py:214: RuntimeWarning: Glyph 49688 missing from current font.\n",
            "  font.set_text(s, 0.0, flags=flags)\n",
            "/usr/local/lib/python3.7/dist-packages/matplotlib/backends/backend_agg.py:183: RuntimeWarning: Glyph 49884 missing from current font.\n",
            "  font.set_text(s, 0, flags=flags)\n",
            "/usr/local/lib/python3.7/dist-packages/matplotlib/backends/backend_agg.py:183: RuntimeWarning: Glyph 44036 missing from current font.\n",
            "  font.set_text(s, 0, flags=flags)\n",
            "/usr/local/lib/python3.7/dist-packages/matplotlib/backends/backend_agg.py:183: RuntimeWarning: Glyph 44284 missing from current font.\n",
            "  font.set_text(s, 0, flags=flags)\n",
            "/usr/local/lib/python3.7/dist-packages/matplotlib/backends/backend_agg.py:183: RuntimeWarning: Glyph 44552 missing from current font.\n",
            "  font.set_text(s, 0, flags=flags)\n",
            "/usr/local/lib/python3.7/dist-packages/matplotlib/backends/backend_agg.py:183: RuntimeWarning: Glyph 50529 missing from current font.\n",
            "  font.set_text(s, 0, flags=flags)\n",
            "/usr/local/lib/python3.7/dist-packages/matplotlib/backends/backend_agg.py:183: RuntimeWarning: Glyph 51032 missing from current font.\n",
            "  font.set_text(s, 0, flags=flags)\n",
            "/usr/local/lib/python3.7/dist-packages/matplotlib/backends/backend_agg.py:183: RuntimeWarning: Glyph 50672 missing from current font.\n",
            "  font.set_text(s, 0, flags=flags)\n",
            "/usr/local/lib/python3.7/dist-packages/matplotlib/backends/backend_agg.py:183: RuntimeWarning: Glyph 44288 missing from current font.\n",
            "  font.set_text(s, 0, flags=flags)\n",
            "/usr/local/lib/python3.7/dist-packages/matplotlib/backends/backend_agg.py:183: RuntimeWarning: Glyph 49457 missing from current font.\n",
            "  font.set_text(s, 0, flags=flags)\n",
            "/usr/local/lib/python3.7/dist-packages/matplotlib/backends/backend_agg.py:183: RuntimeWarning: Glyph 49345 missing from current font.\n",
            "  font.set_text(s, 0, flags=flags)\n",
            "/usr/local/lib/python3.7/dist-packages/matplotlib/backends/backend_agg.py:183: RuntimeWarning: Glyph 44228 missing from current font.\n",
            "  font.set_text(s, 0, flags=flags)\n",
            "/usr/local/lib/python3.7/dist-packages/matplotlib/backends/backend_agg.py:183: RuntimeWarning: Glyph 49688 missing from current font.\n",
            "  font.set_text(s, 0, flags=flags)\n"
          ]
        },
        {
          "output_type": "display_data",
          "data": {
            "text/plain": [
              "<Figure size 432x288 with 1 Axes>"
            ],
            "image/png": "[encoded data removed]"
          },
          "metadata": {
            "needs_background": "light"
          }
        }
      ],
      "source": [
        "hour_sc = pd.concat([x_train['hour'],y_train], axis = 1)\n",
        "sns.scatterplot(hour_sc['hour'], hour_sc['fare_amount'])\n",
        "a = round(hour_sc.corr()['hour'][1],4)\n",
        "plt.title(f'시간과 금액의 연관성 상관계수 : {a}')\n",
        "plt.show()"
      ]
    },
    {
      "cell_type": "markdown",
      "metadata": {
        "id": "KkwjOZpicTFG"
      },
      "source": [
        "시간 범주화"
      ]
    },
    {
      "cell_type": "code",
      "execution_count": null,
      "metadata": {
        "id": "vLprNlwCcR5I"
      },
      "outputs": [],
      "source": [
        "x_train['hour_b'] = pd.cut(x_train['hour'],bins = [-1,3,7,11,15,19,23], labels=[0,1,2,3,4,5]).astype('int64')\n",
        "x_test['hour_b'] = pd.cut(x_test['hour'],bins = [-1,3,7,11,15,19,23], labels=[0,1,2,3,4,5]).astype('int64')"
      ]
    },
    {
      "cell_type": "code",
      "execution_count": null,
      "metadata": {
        "colab": {
          "base_uri": "https://localhost:8080/",
          "height": 322
        },
        "id": "4Pjzokh9fNo-",
        "outputId": "5507059c-c483-4d7c-ecb8-4a0f353df265"
      },
      "outputs": [
        {
          "output_type": "stream",
          "name": "stderr",
          "text": [
            "/usr/local/lib/python3.7/dist-packages/seaborn/_decorators.py:43: FutureWarning: Pass the following variables as keyword args: x, y. From version 0.12, the only valid positional argument will be `data`, and passing other arguments without an explicit keyword will result in an error or misinterpretation.\n",
            "  FutureWarning\n"
          ]
        },
        {
          "output_type": "display_data",
          "data": {
            "text/plain": [
              "<Figure size 432x288 with 1 Axes>"
            ],
            "image/png": "[encoded data removed]"
          },
          "metadata": {
            "needs_background": "light"
          }
        }
      ],
      "source": [
        "sns.barplot(x_train.hour_b.value_counts().index, x_train.hour_b.value_counts().values)\n",
        "plt.show()"
      ]
    },
    {
      "cell_type": "code",
      "execution_count": null,
      "metadata": {
        "colab": {
          "base_uri": "https://localhost:8080/",
          "height": 1000
        },
        "id": "xdHK0ww_fUQH",
        "outputId": "05501260-8ee3-43b8-db34-253f206c8f21"
      },
      "outputs": [
        {
          "output_type": "stream",
          "name": "stderr",
          "text": [
            "/usr/local/lib/python3.7/dist-packages/seaborn/_decorators.py:43: FutureWarning: Pass the following variables as keyword args: x, y. From version 0.12, the only valid positional argument will be `data`, and passing other arguments without an explicit keyword will result in an error or misinterpretation.\n",
            "  FutureWarning\n",
            "/usr/local/lib/python3.7/dist-packages/matplotlib/backends/backend_agg.py:214: RuntimeWarning: Glyph 49884 missing from current font.\n",
            "  font.set_text(s, 0.0, flags=flags)\n",
            "/usr/local/lib/python3.7/dist-packages/matplotlib/backends/backend_agg.py:214: RuntimeWarning: Glyph 44036 missing from current font.\n",
            "  font.set_text(s, 0.0, flags=flags)\n",
            "/usr/local/lib/python3.7/dist-packages/matplotlib/backends/backend_agg.py:214: RuntimeWarning: Glyph 44284 missing from current font.\n",
            "  font.set_text(s, 0.0, flags=flags)\n",
            "/usr/local/lib/python3.7/dist-packages/matplotlib/backends/backend_agg.py:214: RuntimeWarning: Glyph 44552 missing from current font.\n",
            "  font.set_text(s, 0.0, flags=flags)\n",
            "/usr/local/lib/python3.7/dist-packages/matplotlib/backends/backend_agg.py:214: RuntimeWarning: Glyph 50529 missing from current font.\n",
            "  font.set_text(s, 0.0, flags=flags)\n",
            "/usr/local/lib/python3.7/dist-packages/matplotlib/backends/backend_agg.py:214: RuntimeWarning: Glyph 51032 missing from current font.\n",
            "  font.set_text(s, 0.0, flags=flags)\n",
            "/usr/local/lib/python3.7/dist-packages/matplotlib/backends/backend_agg.py:214: RuntimeWarning: Glyph 50672 missing from current font.\n",
            "  font.set_text(s, 0.0, flags=flags)\n",
            "/usr/local/lib/python3.7/dist-packages/matplotlib/backends/backend_agg.py:214: RuntimeWarning: Glyph 44288 missing from current font.\n",
            "  font.set_text(s, 0.0, flags=flags)\n",
            "/usr/local/lib/python3.7/dist-packages/matplotlib/backends/backend_agg.py:214: RuntimeWarning: Glyph 49457 missing from current font.\n",
            "  font.set_text(s, 0.0, flags=flags)\n",
            "/usr/local/lib/python3.7/dist-packages/matplotlib/backends/backend_agg.py:214: RuntimeWarning: Glyph 49345 missing from current font.\n",
            "  font.set_text(s, 0.0, flags=flags)\n",
            "/usr/local/lib/python3.7/dist-packages/matplotlib/backends/backend_agg.py:214: RuntimeWarning: Glyph 44228 missing from current font.\n",
            "  font.set_text(s, 0.0, flags=flags)\n",
            "/usr/local/lib/python3.7/dist-packages/matplotlib/backends/backend_agg.py:214: RuntimeWarning: Glyph 49688 missing from current font.\n",
            "  font.set_text(s, 0.0, flags=flags)\n",
            "/usr/local/lib/python3.7/dist-packages/matplotlib/backends/backend_agg.py:183: RuntimeWarning: Glyph 49884 missing from current font.\n",
            "  font.set_text(s, 0, flags=flags)\n",
            "/usr/local/lib/python3.7/dist-packages/matplotlib/backends/backend_agg.py:183: RuntimeWarning: Glyph 44036 missing from current font.\n",
            "  font.set_text(s, 0, flags=flags)\n",
            "/usr/local/lib/python3.7/dist-packages/matplotlib/backends/backend_agg.py:183: RuntimeWarning: Glyph 44284 missing from current font.\n",
            "  font.set_text(s, 0, flags=flags)\n",
            "/usr/local/lib/python3.7/dist-packages/matplotlib/backends/backend_agg.py:183: RuntimeWarning: Glyph 44552 missing from current font.\n",
            "  font.set_text(s, 0, flags=flags)\n",
            "/usr/local/lib/python3.7/dist-packages/matplotlib/backends/backend_agg.py:183: RuntimeWarning: Glyph 50529 missing from current font.\n",
            "  font.set_text(s, 0, flags=flags)\n",
            "/usr/local/lib/python3.7/dist-packages/matplotlib/backends/backend_agg.py:183: RuntimeWarning: Glyph 51032 missing from current font.\n",
            "  font.set_text(s, 0, flags=flags)\n",
            "/usr/local/lib/python3.7/dist-packages/matplotlib/backends/backend_agg.py:183: RuntimeWarning: Glyph 50672 missing from current font.\n",
            "  font.set_text(s, 0, flags=flags)\n",
            "/usr/local/lib/python3.7/dist-packages/matplotlib/backends/backend_agg.py:183: RuntimeWarning: Glyph 44288 missing from current font.\n",
            "  font.set_text(s, 0, flags=flags)\n",
            "/usr/local/lib/python3.7/dist-packages/matplotlib/backends/backend_agg.py:183: RuntimeWarning: Glyph 49457 missing from current font.\n",
            "  font.set_text(s, 0, flags=flags)\n",
            "/usr/local/lib/python3.7/dist-packages/matplotlib/backends/backend_agg.py:183: RuntimeWarning: Glyph 49345 missing from current font.\n",
            "  font.set_text(s, 0, flags=flags)\n",
            "/usr/local/lib/python3.7/dist-packages/matplotlib/backends/backend_agg.py:183: RuntimeWarning: Glyph 44228 missing from current font.\n",
            "  font.set_text(s, 0, flags=flags)\n",
            "/usr/local/lib/python3.7/dist-packages/matplotlib/backends/backend_agg.py:183: RuntimeWarning: Glyph 49688 missing from current font.\n",
            "  font.set_text(s, 0, flags=flags)\n"
          ]
        },
        {
          "output_type": "display_data",
          "data": {
            "text/plain": [
              "<Figure size 432x288 with 1 Axes>"
            ],
            "image/png": "[encoded data removed]"
          },
          "metadata": {
            "needs_background": "light"
          }
        }
      ],
      "source": [
        "hour_sc = pd.concat([x_train['hour_b'],y_train], axis = 1)\n",
        "sns.scatterplot(hour_sc['hour_b'], hour_sc['fare_amount'])\n",
        "a = round(hour_sc.corr()['hour_b'][1],4)\n",
        "plt.title(f'시간과 금액의 연관성 상관계수 : {a}')\n",
        "plt.show()"
      ]
    },
    {
      "cell_type": "code",
      "execution_count": null,
      "metadata": {
        "colab": {
          "base_uri": "https://localhost:8080/"
        },
        "id": "jHpTOOAYf0bA",
        "outputId": "76909b4a-c8a7-4b33-f955-dc52c936aa62"
      },
      "outputs": [
        {
          "output_type": "stream",
          "name": "stdout",
          "text": [
            "<class 'pandas.core.frame.DataFrame'>\n",
            "Int64Index: 999990 entries, 0 to 999999\n",
            "Data columns (total 16 columns):\n",
            " #   Column             Non-Null Count   Dtype  \n",
            "---  ------             --------------   -----  \n",
            " 0   pickup_datetime    999990 non-null  object \n",
            " 1   pickup_longitude   999990 non-null  float64\n",
            " 2   pickup_latitude    999990 non-null  float64\n",
            " 3   dropoff_longitude  999990 non-null  float64\n",
            " 4   dropoff_latitude   999990 non-null  float64\n",
            " 5   passenger_count    999990 non-null  int64  \n",
            " 6   year               999990 non-null  int64  \n",
            " 7   month              999990 non-null  int64  \n",
            " 8   weekday            999990 non-null  int64  \n",
            " 9   hour               999990 non-null  int64  \n",
            " 10  hour_b_0           999990 non-null  uint8  \n",
            " 11  hour_b_1           999990 non-null  uint8  \n",
            " 12  hour_b_2           999990 non-null  uint8  \n",
            " 13  hour_b_3           999990 non-null  uint8  \n",
            " 14  hour_b_4           999990 non-null  uint8  \n",
            " 15  hour_b_5           999990 non-null  uint8  \n",
            "dtypes: float64(4), int64(5), object(1), uint8(6)\n",
            "memory usage: 89.6+ MB\n"
          ]
        }
      ],
      "source": [
        "x_train = pd.get_dummies(x_train, columns = ['hour_b'])\n",
        "x_train.info()"
      ]
    },
    {
      "cell_type": "code",
      "execution_count": null,
      "metadata": {
        "colab": {
          "base_uri": "https://localhost:8080/"
        },
        "id": "AhHFnPe8uAAm",
        "outputId": "92789973-2d99-4c45-9f61-119be620c4d0"
      },
      "outputs": [
        {
          "output_type": "stream",
          "name": "stdout",
          "text": [
            "<class 'pandas.core.frame.DataFrame'>\n",
            "RangeIndex: 9914 entries, 0 to 9913\n",
            "Data columns (total 16 columns):\n",
            " #   Column             Non-Null Count  Dtype  \n",
            "---  ------             --------------  -----  \n",
            " 0   pickup_datetime    9914 non-null   object \n",
            " 1   pickup_longitude   9914 non-null   float64\n",
            " 2   pickup_latitude    9914 non-null   float64\n",
            " 3   dropoff_longitude  9914 non-null   float64\n",
            " 4   dropoff_latitude   9914 non-null   float64\n",
            " 5   passenger_count    9914 non-null   int64  \n",
            " 6   year               9914 non-null   int64  \n",
            " 7   month              9914 non-null   int64  \n",
            " 8   weekday            9914 non-null   int64  \n",
            " 9   hour               9914 non-null   int64  \n",
            " 10  hour_b_0           9914 non-null   uint8  \n",
            " 11  hour_b_1           9914 non-null   uint8  \n",
            " 12  hour_b_2           9914 non-null   uint8  \n",
            " 13  hour_b_3           9914 non-null   uint8  \n",
            " 14  hour_b_4           9914 non-null   uint8  \n",
            " 15  hour_b_5           9914 non-null   uint8  \n",
            "dtypes: float64(4), int64(5), object(1), uint8(6)\n",
            "memory usage: 832.7+ KB\n"
          ]
        }
      ],
      "source": [
        "x_test = pd.get_dummies(x_test, columns = ['hour_b'])\n",
        "x_test.info()"
      ]
    },
    {
      "cell_type": "code",
      "execution_count": null,
      "metadata": {
        "colab": {
          "base_uri": "https://localhost:8080/"
        },
        "id": "V33tQV-WjBC5",
        "outputId": "bca9cf70-41e3-450e-e709-eed242cf45a8"
      },
      "outputs": [
        {
          "output_type": "execute_result",
          "data": {
            "text/plain": [
              "hour_b_5       0.010044\n",
              "hour_b_0       0.010706\n",
              "hour_b_4       0.012273\n",
              "hour_b_3       0.015821\n",
              "hour_b_2       0.019271\n",
              "hour_b_1       0.026324\n",
              "fare_amount    1.000000\n",
              "Name: fare_amount, dtype: float64"
            ]
          },
          "metadata": {},
          "execution_count": 32
        }
      ],
      "source": [
        "hour_sc = pd.concat([x_train.loc[:,'hour_b_0':],y_train], axis = 1)\n",
        "hour_sc.corr()['fare_amount'].abs().sort_values()"
      ]
    },
    {
      "cell_type": "markdown",
      "metadata": {
        "id": "tx55EdNCLfOg"
      },
      "source": [
        "거리를 어떤식으로 할까 고민(유클리드 거리, 맨허튼 거리) 맨허튼 거리로 결정"
      ]
    },
    {
      "cell_type": "code",
      "execution_count": null,
      "metadata": {
        "id": "-R_XeteIuLX6"
      },
      "outputs": [],
      "source": [
        "x_train['m_uclid'] = (((x_train['dropoff_latitude'] - x_train['pickup_latitude']) ** 2) + ((x_train['dropoff_longitude'] - x_train['pickup_longitude']) ** 2))**0.5\n",
        "x_test['m_uclid'] = (((x_test['dropoff_latitude'] - x_test['pickup_latitude']) ** 2) + ((x_test['dropoff_longitude'] - x_test['pickup_longitude']) ** 2))**0.5"
      ]
    },
    {
      "cell_type": "code",
      "execution_count": null,
      "metadata": {
        "colab": {
          "base_uri": "https://localhost:8080/",
          "height": 112
        },
        "id": "fRYd4DTVvGnl",
        "outputId": "b8568df1-80af-442c-de0d-546e0b4fd115"
      },
      "outputs": [
        {
          "output_type": "execute_result",
          "data": {
            "text/plain": [
              "              m_uclid  fare_amount\n",
              "m_uclid      1.000000     0.008873\n",
              "fare_amount  0.008873     1.000000"
            ],
            "text/html": [
              "\n",
              "  <div id=\"df-63931d90-2c2f-4e46-a6e8-08fc2b798ee6\">\n",
              "    <div class=\"colab-df-container\">\n",
              "      <div>\n",
              "<style scoped>\n",
              "    .dataframe tbody tr th:only-of-type {\n",
              "        vertical-align: middle;\n",
              "    }\n",
              "\n",
              "    .dataframe tbody tr th {\n",
              "        vertical-align: top;\n",
              "    }\n",
              "\n",
              "    .dataframe thead th {\n",
              "        text-align: right;\n",
              "    }\n",
              "</style>\n",
              "<table border=\"1\" class=\"dataframe\">\n",
              "  <thead>\n",
              "    <tr style=\"text-align: right;\">\n",
              "      <th></th>\n",
              "      <th>m_uclid</th>\n",
              "      <th>fare_amount</th>\n",
              "    </tr>\n",
              "  </thead>\n",
              "  <tbody>\n",
              "    <tr>\n",
              "      <th>m_uclid</th>\n",
              "      <td>1.000000</td>\n",
              "      <td>0.008873</td>\n",
              "    </tr>\n",
              "    <tr>\n",
              "      <th>fare_amount</th>\n",
              "      <td>0.008873</td>\n",
              "      <td>1.000000</td>\n",
              "    </tr>\n",
              "  </tbody>\n",
              "</table>\n",
              "</div>\n",
              "      <button class=\"colab-df-convert\" onclick=\"convertToInteractive('df-63931d90-2c2f-4e46-a6e8-08fc2b798ee6')\"\n",
              "              title=\"Convert this dataframe to an interactive table.\"\n",
              "              style=\"display:none;\">\n",
              "        \n",
              "  <svg xmlns=\"http://www.w3.org/2000/svg\" height=\"24px\"viewBox=\"0 0 24 24\"\n",
              "       width=\"24px\">\n",
              "    <path d=\"M0 0h24v24H0V0z\" fill=\"none\"/>\n",
              "    <path d=\"M18.56 5.44l.94 2.06.94-2.06 2.06-.94-2.06-.94-.94-2.06-.94 2.06-2.06.94zm-11 1L8.5 8.5l.94-2.06 2.06-.94-2.06-.94L8.5 2.5l-.94 2.06-2.06.94zm10 10l.94 2.06.94-2.06 2.06-.94-2.06-.94-.94-2.06-.94 2.06-2.06.94z\"/><path d=\"M17.41 7.96l-1.37-1.37c-.4-.4-.92-.59-1.43-.59-.52 0-1.04.2-1.43.59L10.3 9.45l-7.72 7.72c-.78.78-.78 2.05 0 2.83L4 21.41c.39.39.9.59 1.41.59.51 0 1.02-.2 1.41-.59l7.78-7.78 2.81-2.81c.8-.78.8-2.07 0-2.86zM5.41 20L4 18.59l7.72-7.72 1.47 1.35L5.41 20z\"/>\n",
              "  </svg>\n",
              "      </button>\n",
              "      \n",
              "  <style>\n",
              "    .colab-df-container {\n",
              "      display:flex;\n",
              "      flex-wrap:wrap;\n",
              "      gap: 12px;\n",
              "    }\n",
              "\n",
              "    .colab-df-convert {\n",
              "      background-color: #E8F0FE;\n",
              "      border: none;\n",
              "      border-radius: 50%;\n",
              "      cursor: pointer;\n",
              "      display: none;\n",
              "      fill: #1967D2;\n",
              "      height: 32px;\n",
              "      padding: 0 0 0 0;\n",
              "      width: 32px;\n",
              "    }\n",
              "\n",
              "    .colab-df-convert:hover {\n",
              "      background-color: #E2EBFA;\n",
              "      box-shadow: 0px 1px 2px rgba(60, 64, 67, 0.3), 0px 1px 3px 1px rgba(60, 64, 67, 0.15);\n",
              "      fill: #174EA6;\n",
              "    }\n",
              "\n",
              "    [theme=dark] .colab-df-convert {\n",
              "      background-color: #3B4455;\n",
              "      fill: #D2E3FC;\n",
              "    }\n",
              "\n",
              "    [theme=dark] .colab-df-convert:hover {\n",
              "      background-color: #434B5C;\n",
              "      box-shadow: 0px 1px 3px 1px rgba(0, 0, 0, 0.15);\n",
              "      filter: drop-shadow(0px 1px 2px rgba(0, 0, 0, 0.3));\n",
              "      fill: #FFFFFF;\n",
              "    }\n",
              "  </style>\n",
              "\n",
              "      <script>\n",
              "        const buttonEl =\n",
              "          document.querySelector('#df-63931d90-2c2f-4e46-a6e8-08fc2b798ee6 button.colab-df-convert');\n",
              "        buttonEl.style.display =\n",
              "          google.colab.kernel.accessAllowed ? 'block' : 'none';\n",
              "\n",
              "        async function convertToInteractive(key) {\n",
              "          const element = document.querySelector('#df-63931d90-2c2f-4e46-a6e8-08fc2b798ee6');\n",
              "          const dataTable =\n",
              "            await google.colab.kernel.invokeFunction('convertToInteractive',\n",
              "                                                     [key], {});\n",
              "          if (!dataTable) return;\n",
              "\n",
              "          const docLinkHtml = 'Like what you see? Visit the ' +\n",
              "            '<a target=\"_blank\" href=https://colab.research.google.com/notebooks/data_table.ipynb>data table notebook</a>'\n",
              "            + ' to learn more about interactive tables.';\n",
              "          element.innerHTML = '';\n",
              "          dataTable['output_type'] = 'display_data';\n",
              "          await google.colab.output.renderOutput(dataTable, element);\n",
              "          const docLink = document.createElement('div');\n",
              "          docLink.innerHTML = docLinkHtml;\n",
              "          element.appendChild(docLink);\n",
              "        }\n",
              "      </script>\n",
              "    </div>\n",
              "  </div>\n",
              "  "
            ]
          },
          "metadata": {},
          "execution_count": 34
        }
      ],
      "source": [
        "aa = pd.concat([x_train['m_uclid'],y_train], axis=1)\n",
        "aa.corr()"
      ]
    },
    {
      "cell_type": "code",
      "execution_count": null,
      "metadata": {
        "id": "aiCyUebpvmZi"
      },
      "outputs": [],
      "source": [
        "x_train['m_menhunt'] = (x_train['dropoff_latitude'] - x_train['pickup_latitude']).abs() + (x_train['dropoff_longitude'] - x_train['pickup_longitude']).abs()\n",
        "x_test['m_menhunt'] = (x_test['dropoff_latitude'] - x_test['pickup_latitude']).abs() + (x_test['dropoff_longitude'] - x_test['pickup_longitude']).abs()"
      ]
    },
    {
      "cell_type": "code",
      "execution_count": null,
      "metadata": {
        "colab": {
          "base_uri": "https://localhost:8080/",
          "height": 112
        },
        "id": "DU5q_vPsv5eD",
        "outputId": "40b1d480-7475-48c5-d9c5-6481350f2e59"
      },
      "outputs": [
        {
          "output_type": "execute_result",
          "data": {
            "text/plain": [
              "             m_menhunt  fare_amount\n",
              "m_menhunt     1.000000     0.009099\n",
              "fare_amount   0.009099     1.000000"
            ],
            "text/html": [
              "\n",
              "  <div id=\"df-eb8ab4aa-6e31-484f-9451-7599bf63262a\">\n",
              "    <div class=\"colab-df-container\">\n",
              "      <div>\n",
              "<style scoped>\n",
              "    .dataframe tbody tr th:only-of-type {\n",
              "        vertical-align: middle;\n",
              "    }\n",
              "\n",
              "    .dataframe tbody tr th {\n",
              "        vertical-align: top;\n",
              "    }\n",
              "\n",
              "    .dataframe thead th {\n",
              "        text-align: right;\n",
              "    }\n",
              "</style>\n",
              "<table border=\"1\" class=\"dataframe\">\n",
              "  <thead>\n",
              "    <tr style=\"text-align: right;\">\n",
              "      <th></th>\n",
              "      <th>m_menhunt</th>\n",
              "      <th>fare_amount</th>\n",
              "    </tr>\n",
              "  </thead>\n",
              "  <tbody>\n",
              "    <tr>\n",
              "      <th>m_menhunt</th>\n",
              "      <td>1.000000</td>\n",
              "      <td>0.009099</td>\n",
              "    </tr>\n",
              "    <tr>\n",
              "      <th>fare_amount</th>\n",
              "      <td>0.009099</td>\n",
              "      <td>1.000000</td>\n",
              "    </tr>\n",
              "  </tbody>\n",
              "</table>\n",
              "</div>\n",
              "      <button class=\"colab-df-convert\" onclick=\"convertToInteractive('df-eb8ab4aa-6e31-484f-9451-7599bf63262a')\"\n",
              "              title=\"Convert this dataframe to an interactive table.\"\n",
              "              style=\"display:none;\">\n",
              "        \n",
              "  <svg xmlns=\"http://www.w3.org/2000/svg\" height=\"24px\"viewBox=\"0 0 24 24\"\n",
              "       width=\"24px\">\n",
              "    <path d=\"M0 0h24v24H0V0z\" fill=\"none\"/>\n",
              "    <path d=\"M18.56 5.44l.94 2.06.94-2.06 2.06-.94-2.06-.94-.94-2.06-.94 2.06-2.06.94zm-11 1L8.5 8.5l.94-2.06 2.06-.94-2.06-.94L8.5 2.5l-.94 2.06-2.06.94zm10 10l.94 2.06.94-2.06 2.06-.94-2.06-.94-.94-2.06-.94 2.06-2.06.94z\"/><path d=\"M17.41 7.96l-1.37-1.37c-.4-.4-.92-.59-1.43-.59-.52 0-1.04.2-1.43.59L10.3 9.45l-7.72 7.72c-.78.78-.78 2.05 0 2.83L4 21.41c.39.39.9.59 1.41.59.51 0 1.02-.2 1.41-.59l7.78-7.78 2.81-2.81c.8-.78.8-2.07 0-2.86zM5.41 20L4 18.59l7.72-7.72 1.47 1.35L5.41 20z\"/>\n",
              "  </svg>\n",
              "      </button>\n",
              "      \n",
              "  <style>\n",
              "    .colab-df-container {\n",
              "      display:flex;\n",
              "      flex-wrap:wrap;\n",
              "      gap: 12px;\n",
              "    }\n",
              "\n",
              "    .colab-df-convert {\n",
              "      background-color: #E8F0FE;\n",
              "      border: none;\n",
              "      border-radius: 50%;\n",
              "      cursor: pointer;\n",
              "      display: none;\n",
              "      fill: #1967D2;\n",
              "      height: 32px;\n",
              "      padding: 0 0 0 0;\n",
              "      width: 32px;\n",
              "    }\n",
              "\n",
              "    .colab-df-convert:hover {\n",
              "      background-color: #E2EBFA;\n",
              "      box-shadow: 0px 1px 2px rgba(60, 64, 67, 0.3), 0px 1px 3px 1px rgba(60, 64, 67, 0.15);\n",
              "      fill: #174EA6;\n",
              "    }\n",
              "\n",
              "    [theme=dark] .colab-df-convert {\n",
              "      background-color: #3B4455;\n",
              "      fill: #D2E3FC;\n",
              "    }\n",
              "\n",
              "    [theme=dark] .colab-df-convert:hover {\n",
              "      background-color: #434B5C;\n",
              "      box-shadow: 0px 1px 3px 1px rgba(0, 0, 0, 0.15);\n",
              "      filter: drop-shadow(0px 1px 2px rgba(0, 0, 0, 0.3));\n",
              "      fill: #FFFFFF;\n",
              "    }\n",
              "  </style>\n",
              "\n",
              "      <script>\n",
              "        const buttonEl =\n",
              "          document.querySelector('#df-eb8ab4aa-6e31-484f-9451-7599bf63262a button.colab-df-convert');\n",
              "        buttonEl.style.display =\n",
              "          google.colab.kernel.accessAllowed ? 'block' : 'none';\n",
              "\n",
              "        async function convertToInteractive(key) {\n",
              "          const element = document.querySelector('#df-eb8ab4aa-6e31-484f-9451-7599bf63262a');\n",
              "          const dataTable =\n",
              "            await google.colab.kernel.invokeFunction('convertToInteractive',\n",
              "                                                     [key], {});\n",
              "          if (!dataTable) return;\n",
              "\n",
              "          const docLinkHtml = 'Like what you see? Visit the ' +\n",
              "            '<a target=\"_blank\" href=https://colab.research.google.com/notebooks/data_table.ipynb>data table notebook</a>'\n",
              "            + ' to learn more about interactive tables.';\n",
              "          element.innerHTML = '';\n",
              "          dataTable['output_type'] = 'display_data';\n",
              "          await google.colab.output.renderOutput(dataTable, element);\n",
              "          const docLink = document.createElement('div');\n",
              "          docLink.innerHTML = docLinkHtml;\n",
              "          element.appendChild(docLink);\n",
              "        }\n",
              "      </script>\n",
              "    </div>\n",
              "  </div>\n",
              "  "
            ]
          },
          "metadata": {},
          "execution_count": 36
        }
      ],
      "source": [
        "aa = pd.concat([x_train['m_menhunt'],y_train], axis=1)\n",
        "aa.corr()"
      ]
    },
    {
      "cell_type": "code",
      "execution_count": null,
      "metadata": {
        "id": "BAdJS-IbMFpN"
      },
      "outputs": [],
      "source": [
        "m = folium.Map(location=[x_train['pickup_latitude'][0], x_train['pickup_longitude'][0]],\n",
        "               zoom_start=12, \n",
        "               width=750, \n",
        "               height=500\n",
        "              )"
      ]
    },
    {
      "cell_type": "code",
      "execution_count": null,
      "metadata": {
        "colab": {
          "base_uri": "https://localhost:8080/",
          "height": 719
        },
        "id": "E0lDzL3IzhGo",
        "outputId": "04c52b78-c19c-48ae-a055-c3af6d3c4044"
      },
      "outputs": [
        {
          "output_type": "execute_result",
          "data": {
            "text/plain": [
              "<folium.folium.Map at 0x7f947e7fdb50>"
            ],
            "text/html": [
              "<div style=\"width:100%;\"><div style=\"position:relative;width:100%;height:0;padding-bottom:60%;\"><span style=\"color:#565656\">Make this Notebook Trusted to load map: File -> Trust Notebook</span><iframe srcdoc=\"&lt;!DOCTYPE html&gt;\n",
              "&lt;head&gt;    \n",
              "    &lt;meta http-equiv=&quot;content-type&quot; content=&quot;text/html; charset=UTF-8&quot; /&gt;\n",
              "    &lt;script&gt;L_PREFER_CANVAS=false; L_NO_TOUCH=false; L_DISABLE_3D=false;&lt;/script&gt;\n",
              "    &lt;script src=&quot;https://cdn.jsdelivr.net/npm/leaflet@1.4.0/dist/leaflet.js&quot;&gt;&lt;/script&gt;\n",
              "    &lt;script src=&quot;https://code.jquery.com/jquery-1.12.4.min.js&quot;&gt;&lt;/script&gt;\n",
              "    &lt;script src=&quot;https://maxcdn.bootstrapcdn.com/bootstrap/3.2.0/js/bootstrap.min.js&quot;&gt;&lt;/script&gt;\n",
              "    &lt;script src=&quot;https://cdnjs.cloudflare.com/ajax/libs/Leaflet.awesome-markers/2.0.2/leaflet.awesome-markers.js&quot;&gt;&lt;/script&gt;\n",
              "    &lt;link rel=&quot;stylesheet&quot; href=&quot;https://cdn.jsdelivr.net/npm/leaflet@1.4.0/dist/leaflet.css&quot;/&gt;\n",
              "    &lt;link rel=&quot;stylesheet&quot; href=&quot;https://maxcdn.bootstrapcdn.com/bootstrap/3.2.0/css/bootstrap.min.css&quot;/&gt;\n",
              "    &lt;link rel=&quot;stylesheet&quot; href=&quot;https://maxcdn.bootstrapcdn.com/bootstrap/3.2.0/css/bootstrap-theme.min.css&quot;/&gt;\n",
              "    &lt;link rel=&quot;stylesheet&quot; href=&quot;https://maxcdn.bootstrapcdn.com/font-awesome/4.6.3/css/font-awesome.min.css&quot;/&gt;\n",
              "    &lt;link rel=&quot;stylesheet&quot; href=&quot;https://cdnjs.cloudflare.com/ajax/libs/Leaflet.awesome-markers/2.0.2/leaflet.awesome-markers.css&quot;/&gt;\n",
              "    &lt;link rel=&quot;stylesheet&quot; href=&quot;https://rawcdn.githack.com/python-visualization/folium/master/folium/templates/leaflet.awesome.rotate.css&quot;/&gt;\n",
              "    &lt;style&gt;html, body {width: 100%;height: 100%;margin: 0;padding: 0;}&lt;/style&gt;\n",
              "    &lt;style&gt;#map {position:absolute;top:0;bottom:0;right:0;left:0;}&lt;/style&gt;\n",
              "    \n",
              "    &lt;meta name=&quot;viewport&quot; content=&quot;width=device-width,\n",
              "        initial-scale=1.0, maximum-scale=1.0, user-scalable=no&quot; /&gt;\n",
              "    &lt;style&gt;#map_6de5ecc59ef85fc60937d350e8353814 {\n",
              "        position: relative;\n",
              "        width: 750.0px;\n",
              "        height: 500.0px;\n",
              "        left: 0.0%;\n",
              "        top: 0.0%;\n",
              "        }\n",
              "    &lt;/style&gt;\n",
              "&lt;/head&gt;\n",
              "&lt;body&gt;    \n",
              "    \n",
              "    &lt;div class=&quot;folium-map&quot; id=&quot;map_6de5ecc59ef85fc60937d350e8353814&quot; &gt;&lt;/div&gt;\n",
              "&lt;/body&gt;\n",
              "&lt;script&gt;    \n",
              "    \n",
              "    \n",
              "        var bounds = null;\n",
              "    \n",
              "\n",
              "    var map_6de5ecc59ef85fc60937d350e8353814 = L.map(\n",
              "        &#x27;map_6de5ecc59ef85fc60937d350e8353814&#x27;, {\n",
              "        center: [40.721319, -73.844311],\n",
              "        zoom: 12,\n",
              "        maxBounds: bounds,\n",
              "        layers: [],\n",
              "        worldCopyJump: false,\n",
              "        crs: L.CRS.EPSG3857,\n",
              "        zoomControl: true,\n",
              "        });\n",
              "\n",
              "\n",
              "    \n",
              "    var tile_layer_a3414a72922cdb7b746149db3524a479 = L.tileLayer(\n",
              "        &#x27;https://{s}.tile.openstreetmap.org/{z}/{x}/{y}.png&#x27;,\n",
              "        {\n",
              "        &quot;attribution&quot;: null,\n",
              "        &quot;detectRetina&quot;: false,\n",
              "        &quot;maxNativeZoom&quot;: 18,\n",
              "        &quot;maxZoom&quot;: 18,\n",
              "        &quot;minZoom&quot;: 0,\n",
              "        &quot;noWrap&quot;: false,\n",
              "        &quot;opacity&quot;: 1,\n",
              "        &quot;subdomains&quot;: &quot;abc&quot;,\n",
              "        &quot;tms&quot;: false\n",
              "}).addTo(map_6de5ecc59ef85fc60937d350e8353814);\n",
              "    \n",
              "        var marker_507e58e76642668ac202a441cb228488 = L.marker(\n",
              "            [40.721319, -73.844311],\n",
              "            {\n",
              "                icon: new L.Icon.Default(),\n",
              "                }\n",
              "            ).addTo(map_6de5ecc59ef85fc60937d350e8353814);\n",
              "        \n",
              "    \n",
              "        var marker_cc66535861e75531323c2feb1884c33a = L.marker(\n",
              "            [40.712278, -73.84161],\n",
              "            {\n",
              "                icon: new L.Icon.Default(),\n",
              "                }\n",
              "            ).addTo(map_6de5ecc59ef85fc60937d350e8353814);\n",
              "        \n",
              "    \n",
              "\n",
              "                var icon_f1030cc793ac6142dd47c3d929e38509 = L.AwesomeMarkers.icon({\n",
              "                    icon: &#x27;info-sign&#x27;,\n",
              "                    iconColor: &#x27;white&#x27;,\n",
              "                    markerColor: &#x27;red&#x27;,\n",
              "                    prefix: &#x27;glyphicon&#x27;,\n",
              "                    extraClasses: &#x27;fa-rotate-0&#x27;\n",
              "                    });\n",
              "                marker_cc66535861e75531323c2feb1884c33a.setIcon(icon_f1030cc793ac6142dd47c3d929e38509);\n",
              "            \n",
              "    \n",
              "        var marker_f09bf6f75ac8d61b5965d00a2e82c5dd = L.marker(\n",
              "            [40.711303, -74.016048],\n",
              "            {\n",
              "                icon: new L.Icon.Default(),\n",
              "                }\n",
              "            ).addTo(map_6de5ecc59ef85fc60937d350e8353814);\n",
              "        \n",
              "    \n",
              "        var marker_fb298cbabe267e5d9918f4baa74f6c2c = L.marker(\n",
              "            [40.782004, -73.979268],\n",
              "            {\n",
              "                icon: new L.Icon.Default(),\n",
              "                }\n",
              "            ).addTo(map_6de5ecc59ef85fc60937d350e8353814);\n",
              "        \n",
              "    \n",
              "\n",
              "                var icon_c468cfc8a877a606105c05e9825799c7 = L.AwesomeMarkers.icon({\n",
              "                    icon: &#x27;info-sign&#x27;,\n",
              "                    iconColor: &#x27;white&#x27;,\n",
              "                    markerColor: &#x27;red&#x27;,\n",
              "                    prefix: &#x27;glyphicon&#x27;,\n",
              "                    extraClasses: &#x27;fa-rotate-0&#x27;\n",
              "                    });\n",
              "                marker_fb298cbabe267e5d9918f4baa74f6c2c.setIcon(icon_c468cfc8a877a606105c05e9825799c7);\n",
              "            \n",
              "    \n",
              "        var marker_09b41d8967045c30176f90f1b05a6225 = L.marker(\n",
              "            [40.76127, -73.982738],\n",
              "            {\n",
              "                icon: new L.Icon.Default(),\n",
              "                }\n",
              "            ).addTo(map_6de5ecc59ef85fc60937d350e8353814);\n",
              "        \n",
              "    \n",
              "        var marker_33fc236e40fe1b2b48962b2e5e07a27f = L.marker(\n",
              "            [40.750562, -73.991242],\n",
              "            {\n",
              "                icon: new L.Icon.Default(),\n",
              "                }\n",
              "            ).addTo(map_6de5ecc59ef85fc60937d350e8353814);\n",
              "        \n",
              "    \n",
              "\n",
              "                var icon_f6d23f287d11b83cebf48586377823d5 = L.AwesomeMarkers.icon({\n",
              "                    icon: &#x27;info-sign&#x27;,\n",
              "                    iconColor: &#x27;white&#x27;,\n",
              "                    markerColor: &#x27;red&#x27;,\n",
              "                    prefix: &#x27;glyphicon&#x27;,\n",
              "                    extraClasses: &#x27;fa-rotate-0&#x27;\n",
              "                    });\n",
              "                marker_33fc236e40fe1b2b48962b2e5e07a27f.setIcon(icon_f6d23f287d11b83cebf48586377823d5);\n",
              "            \n",
              "    \n",
              "        var marker_aaaabd57cbf6f490aaf2ee003b194948 = L.marker(\n",
              "            [40.733143, -73.98713],\n",
              "            {\n",
              "                icon: new L.Icon.Default(),\n",
              "                }\n",
              "            ).addTo(map_6de5ecc59ef85fc60937d350e8353814);\n",
              "        \n",
              "    \n",
              "        var marker_c049518744de036a46263006afe6f998 = L.marker(\n",
              "            [40.758092, -73.991567],\n",
              "            {\n",
              "                icon: new L.Icon.Default(),\n",
              "                }\n",
              "            ).addTo(map_6de5ecc59ef85fc60937d350e8353814);\n",
              "        \n",
              "    \n",
              "\n",
              "                var icon_2face9d4532b568e6e9312646198c28c = L.AwesomeMarkers.icon({\n",
              "                    icon: &#x27;info-sign&#x27;,\n",
              "                    iconColor: &#x27;white&#x27;,\n",
              "                    markerColor: &#x27;red&#x27;,\n",
              "                    prefix: &#x27;glyphicon&#x27;,\n",
              "                    extraClasses: &#x27;fa-rotate-0&#x27;\n",
              "                    });\n",
              "                marker_c049518744de036a46263006afe6f998.setIcon(icon_2face9d4532b568e6e9312646198c28c);\n",
              "            \n",
              "    \n",
              "        var marker_29b521e2b666c32cc8e6b7251b26afba = L.marker(\n",
              "            [40.768008, -73.968095],\n",
              "            {\n",
              "                icon: new L.Icon.Default(),\n",
              "                }\n",
              "            ).addTo(map_6de5ecc59ef85fc60937d350e8353814);\n",
              "        \n",
              "    \n",
              "        var marker_bf9e41f5f7fa649ba873aee11e3b9046 = L.marker(\n",
              "            [40.783762, -73.956655],\n",
              "            {\n",
              "                icon: new L.Icon.Default(),\n",
              "                }\n",
              "            ).addTo(map_6de5ecc59ef85fc60937d350e8353814);\n",
              "        \n",
              "    \n",
              "\n",
              "                var icon_d73fec52422bcaef8665dfdea8120957 = L.AwesomeMarkers.icon({\n",
              "                    icon: &#x27;info-sign&#x27;,\n",
              "                    iconColor: &#x27;white&#x27;,\n",
              "                    markerColor: &#x27;red&#x27;,\n",
              "                    prefix: &#x27;glyphicon&#x27;,\n",
              "                    extraClasses: &#x27;fa-rotate-0&#x27;\n",
              "                    });\n",
              "                marker_bf9e41f5f7fa649ba873aee11e3b9046.setIcon(icon_d73fec52422bcaef8665dfdea8120957);\n",
              "            \n",
              "    \n",
              "        var marker_1f12a08ee052b7956480a926fb1ebead = L.marker(\n",
              "            [40.73163, -74.000964],\n",
              "            {\n",
              "                icon: new L.Icon.Default(),\n",
              "                }\n",
              "            ).addTo(map_6de5ecc59ef85fc60937d350e8353814);\n",
              "        \n",
              "    \n",
              "        var marker_f0c36dbe6a0adc7cf4c95bbbc0d5034a = L.marker(\n",
              "            [40.758233, -73.972892],\n",
              "            {\n",
              "                icon: new L.Icon.Default(),\n",
              "                }\n",
              "            ).addTo(map_6de5ecc59ef85fc60937d350e8353814);\n",
              "        \n",
              "    \n",
              "\n",
              "                var icon_cfcee3a57b7cf01f45eb751cbaf7b49e = L.AwesomeMarkers.icon({\n",
              "                    icon: &#x27;info-sign&#x27;,\n",
              "                    iconColor: &#x27;white&#x27;,\n",
              "                    markerColor: &#x27;red&#x27;,\n",
              "                    prefix: &#x27;glyphicon&#x27;,\n",
              "                    extraClasses: &#x27;fa-rotate-0&#x27;\n",
              "                    });\n",
              "                marker_f0c36dbe6a0adc7cf4c95bbbc0d5034a.setIcon(icon_cfcee3a57b7cf01f45eb751cbaf7b49e);\n",
              "            \n",
              "    \n",
              "        var marker_2a21d37d6cd88cb4c418c30a199a660a = L.marker(\n",
              "            [40.751662, -73.980002],\n",
              "            {\n",
              "                icon: new L.Icon.Default(),\n",
              "                }\n",
              "            ).addTo(map_6de5ecc59ef85fc60937d350e8353814);\n",
              "        \n",
              "    \n",
              "        var marker_eb45ccb7612be772fb335e655ba8c56d = L.marker(\n",
              "            [40.764842, -73.973802],\n",
              "            {\n",
              "                icon: new L.Icon.Default(),\n",
              "                }\n",
              "            ).addTo(map_6de5ecc59ef85fc60937d350e8353814);\n",
              "        \n",
              "    \n",
              "\n",
              "                var icon_27e94eedbac35bb46557dac762915e40 = L.AwesomeMarkers.icon({\n",
              "                    icon: &#x27;info-sign&#x27;,\n",
              "                    iconColor: &#x27;white&#x27;,\n",
              "                    markerColor: &#x27;red&#x27;,\n",
              "                    prefix: &#x27;glyphicon&#x27;,\n",
              "                    extraClasses: &#x27;fa-rotate-0&#x27;\n",
              "                    });\n",
              "                marker_eb45ccb7612be772fb335e655ba8c56d.setIcon(icon_27e94eedbac35bb46557dac762915e40);\n",
              "            \n",
              "    \n",
              "        var marker_428239c37e92c0a4c9a40a7e83622f7a = L.marker(\n",
              "            [40.774138, -73.9513],\n",
              "            {\n",
              "                icon: new L.Icon.Default(),\n",
              "                }\n",
              "            ).addTo(map_6de5ecc59ef85fc60937d350e8353814);\n",
              "        \n",
              "    \n",
              "        var marker_28cb0ea110ab9cdfe86faf92dd6fa7ef = L.marker(\n",
              "            [40.751048, -73.990095],\n",
              "            {\n",
              "                icon: new L.Icon.Default(),\n",
              "                }\n",
              "            ).addTo(map_6de5ecc59ef85fc60937d350e8353814);\n",
              "        \n",
              "    \n",
              "\n",
              "                var icon_f2cd8529755cc1b0c3db9551e6c2516a = L.AwesomeMarkers.icon({\n",
              "                    icon: &#x27;info-sign&#x27;,\n",
              "                    iconColor: &#x27;white&#x27;,\n",
              "                    markerColor: &#x27;red&#x27;,\n",
              "                    prefix: &#x27;glyphicon&#x27;,\n",
              "                    extraClasses: &#x27;fa-rotate-0&#x27;\n",
              "                    });\n",
              "                marker_28cb0ea110ab9cdfe86faf92dd6fa7ef.setIcon(icon_f2cd8529755cc1b0c3db9551e6c2516a);\n",
              "            \n",
              "    \n",
              "        var marker_e87f77b91453fef98b6a4c0334cdb1dc = L.marker(\n",
              "            [40.726713, -74.006462],\n",
              "            {\n",
              "                icon: new L.Icon.Default(),\n",
              "                }\n",
              "            ).addTo(map_6de5ecc59ef85fc60937d350e8353814);\n",
              "        \n",
              "    \n",
              "        var marker_bb15fa87c28a29d943e6eea8b2e424f8 = L.marker(\n",
              "            [40.731628, -73.993078],\n",
              "            {\n",
              "                icon: new L.Icon.Default(),\n",
              "                }\n",
              "            ).addTo(map_6de5ecc59ef85fc60937d350e8353814);\n",
              "        \n",
              "    \n",
              "\n",
              "                var icon_2481d812757ba129ea1561216e0ef993 = L.AwesomeMarkers.icon({\n",
              "                    icon: &#x27;info-sign&#x27;,\n",
              "                    iconColor: &#x27;white&#x27;,\n",
              "                    markerColor: &#x27;red&#x27;,\n",
              "                    prefix: &#x27;glyphicon&#x27;,\n",
              "                    extraClasses: &#x27;fa-rotate-0&#x27;\n",
              "                    });\n",
              "                marker_bb15fa87c28a29d943e6eea8b2e424f8.setIcon(icon_2481d812757ba129ea1561216e0ef993);\n",
              "            \n",
              "    \n",
              "        var marker_812e952c49b716ba677813e543047c36 = L.marker(\n",
              "            [40.733873, -73.980658],\n",
              "            {\n",
              "                icon: new L.Icon.Default(),\n",
              "                }\n",
              "            ).addTo(map_6de5ecc59ef85fc60937d350e8353814);\n",
              "        \n",
              "    \n",
              "        var marker_72bcfce6b8badb970704ea181220d383 = L.marker(\n",
              "            [40.758138, -73.99154],\n",
              "            {\n",
              "                icon: new L.Icon.Default(),\n",
              "                }\n",
              "            ).addTo(map_6de5ecc59ef85fc60937d350e8353814);\n",
              "        \n",
              "    \n",
              "\n",
              "                var icon_bf8d14ecb183c3d32af47e3d8fb3c882 = L.AwesomeMarkers.icon({\n",
              "                    icon: &#x27;info-sign&#x27;,\n",
              "                    iconColor: &#x27;white&#x27;,\n",
              "                    markerColor: &#x27;red&#x27;,\n",
              "                    prefix: &#x27;glyphicon&#x27;,\n",
              "                    extraClasses: &#x27;fa-rotate-0&#x27;\n",
              "                    });\n",
              "                marker_72bcfce6b8badb970704ea181220d383.setIcon(icon_bf8d14ecb183c3d32af47e3d8fb3c882);\n",
              "            \n",
              "&lt;/script&gt;\" style=\"position:absolute;width:100%;height:100%;left:0;top:0;border:none !important;\" allowfullscreen webkitallowfullscreen mozallowfullscreen></iframe></div></div>"
            ]
          },
          "metadata": {},
          "execution_count": 38
        }
      ],
      "source": [
        "for i in range(10):\n",
        "    folium.Marker([x_train['pickup_latitude'][i],  x_train['pickup_longitude'][i]]).add_to(m)\n",
        "    folium.Marker([x_train['dropoff_latitude'][i],  x_train['dropoff_longitude'][i]], icon=folium.Icon('red')).add_to(m)\n",
        "m"
      ]
    },
    {
      "cell_type": "markdown",
      "metadata": {
        "id": "bNZPIFMc4avU"
      },
      "source": [
        "데이터 정리"
      ]
    },
    {
      "cell_type": "code",
      "execution_count": null,
      "metadata": {
        "colab": {
          "base_uri": "https://localhost:8080/"
        },
        "id": "5SjsuJ5a4fkM",
        "outputId": "482c7293-b4f0-4ed2-bb4a-36c24a096151"
      },
      "outputs": [
        {
          "output_type": "stream",
          "name": "stdout",
          "text": [
            "<class 'pandas.core.frame.DataFrame'>\n",
            "Int64Index: 999990 entries, 0 to 999999\n",
            "Data columns (total 18 columns):\n",
            " #   Column             Non-Null Count   Dtype  \n",
            "---  ------             --------------   -----  \n",
            " 0   pickup_datetime    999990 non-null  object \n",
            " 1   pickup_longitude   999990 non-null  float64\n",
            " 2   pickup_latitude    999990 non-null  float64\n",
            " 3   dropoff_longitude  999990 non-null  float64\n",
            " 4   dropoff_latitude   999990 non-null  float64\n",
            " 5   passenger_count    999990 non-null  int64  \n",
            " 6   year               999990 non-null  int64  \n",
            " 7   month              999990 non-null  int64  \n",
            " 8   weekday            999990 non-null  int64  \n",
            " 9   hour               999990 non-null  int64  \n",
            " 10  hour_b_0           999990 non-null  uint8  \n",
            " 11  hour_b_1           999990 non-null  uint8  \n",
            " 12  hour_b_2           999990 non-null  uint8  \n",
            " 13  hour_b_3           999990 non-null  uint8  \n",
            " 14  hour_b_4           999990 non-null  uint8  \n",
            " 15  hour_b_5           999990 non-null  uint8  \n",
            " 16  m_uclid            999990 non-null  float64\n",
            " 17  m_menhunt          999990 non-null  float64\n",
            "dtypes: float64(6), int64(5), object(1), uint8(6)\n",
            "memory usage: 137.2+ MB\n"
          ]
        }
      ],
      "source": [
        "x_train.info()"
      ]
    },
    {
      "cell_type": "code",
      "execution_count": null,
      "metadata": {
        "id": "O1fMhGO_46E2"
      },
      "outputs": [],
      "source": [
        "x_train = x_train.drop(['pickup_datetime','pickup_longitude','pickup_latitude','dropoff_longitude','dropoff_latitude','hour','m_uclid'],axis=1)\n",
        "x_test = x_test.drop(['pickup_datetime','pickup_longitude','pickup_latitude','dropoff_longitude','dropoff_latitude','hour','m_uclid'],axis=1)"
      ]
    },
    {
      "cell_type": "markdown",
      "metadata": {
        "id": "xlBlyZKc8759"
      },
      "source": [
        "이상치 제거"
      ]
    },
    {
      "cell_type": "code",
      "execution_count": null,
      "metadata": {
        "colab": {
          "base_uri": "https://localhost:8080/",
          "height": 364
        },
        "id": "d3Y9CyCz5nqF",
        "outputId": "74e965ac-01c7-4fc3-abfe-ff597ca1ef60"
      },
      "outputs": [
        {
          "output_type": "execute_result",
          "data": {
            "text/plain": [
              "       passenger_count           year          month        weekday  \\\n",
              "count    999990.000000  999990.000000  999990.000000  999990.000000   \n",
              "mean          1.684941    2011.741103       6.267841       3.039870   \n",
              "std           1.323907       1.860761       3.436230       1.949966   \n",
              "min           0.000000    2009.000000       1.000000       0.000000   \n",
              "25%           1.000000    2010.000000       3.000000       1.000000   \n",
              "50%           1.000000    2012.000000       6.000000       3.000000   \n",
              "75%           2.000000    2013.000000       9.000000       5.000000   \n",
              "max         208.000000    2015.000000      12.000000       6.000000   \n",
              "\n",
              "            hour_b_0       hour_b_1       hour_b_2       hour_b_3  \\\n",
              "count  999990.000000  999990.000000  999990.000000  999990.000000   \n",
              "mean        0.106543       0.078228       0.183810       0.196799   \n",
              "std         0.308532       0.268530       0.387329       0.397579   \n",
              "min         0.000000       0.000000       0.000000       0.000000   \n",
              "25%         0.000000       0.000000       0.000000       0.000000   \n",
              "50%         0.000000       0.000000       0.000000       0.000000   \n",
              "75%         0.000000       0.000000       0.000000       0.000000   \n",
              "max         1.000000       1.000000       1.000000       1.000000   \n",
              "\n",
              "            hour_b_4       hour_b_5      m_menhunt  \n",
              "count  999990.000000  999990.000000  999990.000000  \n",
              "mean        0.213581       0.221039       0.296264  \n",
              "std         0.409835       0.414947      14.429636  \n",
              "min         0.000000       0.000000       0.000000  \n",
              "25%         0.000000       0.000000       0.015837  \n",
              "50%         0.000000       0.000000       0.027638  \n",
              "75%         0.000000       0.000000       0.050385  \n",
              "max         1.000000       1.000000    9726.488411  "
            ],
            "text/html": [
              "\n",
              "  <div id=\"df-79564b82-d1cc-4636-a7b1-1569f5b1adb6\">\n",
              "    <div class=\"colab-df-container\">\n",
              "      <div>\n",
              "<style scoped>\n",
              "    .dataframe tbody tr th:only-of-type {\n",
              "        vertical-align: middle;\n",
              "    }\n",
              "\n",
              "    .dataframe tbody tr th {\n",
              "        vertical-align: top;\n",
              "    }\n",
              "\n",
              "    .dataframe thead th {\n",
              "        text-align: right;\n",
              "    }\n",
              "</style>\n",
              "<table border=\"1\" class=\"dataframe\">\n",
              "  <thead>\n",
              "    <tr style=\"text-align: right;\">\n",
              "      <th></th>\n",
              "      <th>passenger_count</th>\n",
              "      <th>year</th>\n",
              "      <th>month</th>\n",
              "      <th>weekday</th>\n",
              "      <th>hour_b_0</th>\n",
              "      <th>hour_b_1</th>\n",
              "      <th>hour_b_2</th>\n",
              "      <th>hour_b_3</th>\n",
              "      <th>hour_b_4</th>\n",
              "      <th>hour_b_5</th>\n",
              "      <th>m_menhunt</th>\n",
              "    </tr>\n",
              "  </thead>\n",
              "  <tbody>\n",
              "    <tr>\n",
              "      <th>count</th>\n",
              "      <td>999990.000000</td>\n",
              "      <td>999990.000000</td>\n",
              "      <td>999990.000000</td>\n",
              "      <td>999990.000000</td>\n",
              "      <td>999990.000000</td>\n",
              "      <td>999990.000000</td>\n",
              "      <td>999990.000000</td>\n",
              "      <td>999990.000000</td>\n",
              "      <td>999990.000000</td>\n",
              "      <td>999990.000000</td>\n",
              "      <td>999990.000000</td>\n",
              "    </tr>\n",
              "    <tr>\n",
              "      <th>mean</th>\n",
              "      <td>1.684941</td>\n",
              "      <td>2011.741103</td>\n",
              "      <td>6.267841</td>\n",
              "      <td>3.039870</td>\n",
              "      <td>0.106543</td>\n",
              "      <td>0.078228</td>\n",
              "      <td>0.183810</td>\n",
              "      <td>0.196799</td>\n",
              "      <td>0.213581</td>\n",
              "      <td>0.221039</td>\n",
              "      <td>0.296264</td>\n",
              "    </tr>\n",
              "    <tr>\n",
              "      <th>std</th>\n",
              "      <td>1.323907</td>\n",
              "      <td>1.860761</td>\n",
              "      <td>3.436230</td>\n",
              "      <td>1.949966</td>\n",
              "      <td>0.308532</td>\n",
              "      <td>0.268530</td>\n",
              "      <td>0.387329</td>\n",
              "      <td>0.397579</td>\n",
              "      <td>0.409835</td>\n",
              "      <td>0.414947</td>\n",
              "      <td>14.429636</td>\n",
              "    </tr>\n",
              "    <tr>\n",
              "      <th>min</th>\n",
              "      <td>0.000000</td>\n",
              "      <td>2009.000000</td>\n",
              "      <td>1.000000</td>\n",
              "      <td>0.000000</td>\n",
              "      <td>0.000000</td>\n",
              "      <td>0.000000</td>\n",
              "      <td>0.000000</td>\n",
              "      <td>0.000000</td>\n",
              "      <td>0.000000</td>\n",
              "      <td>0.000000</td>\n",
              "      <td>0.000000</td>\n",
              "    </tr>\n",
              "    <tr>\n",
              "      <th>25%</th>\n",
              "      <td>1.000000</td>\n",
              "      <td>2010.000000</td>\n",
              "      <td>3.000000</td>\n",
              "      <td>1.000000</td>\n",
              "      <td>0.000000</td>\n",
              "      <td>0.000000</td>\n",
              "      <td>0.000000</td>\n",
              "      <td>0.000000</td>\n",
              "      <td>0.000000</td>\n",
              "      <td>0.000000</td>\n",
              "      <td>0.015837</td>\n",
              "    </tr>\n",
              "    <tr>\n",
              "      <th>50%</th>\n",
              "      <td>1.000000</td>\n",
              "      <td>2012.000000</td>\n",
              "      <td>6.000000</td>\n",
              "      <td>3.000000</td>\n",
              "      <td>0.000000</td>\n",
              "      <td>0.000000</td>\n",
              "      <td>0.000000</td>\n",
              "      <td>0.000000</td>\n",
              "      <td>0.000000</td>\n",
              "      <td>0.000000</td>\n",
              "      <td>0.027638</td>\n",
              "    </tr>\n",
              "    <tr>\n",
              "      <th>75%</th>\n",
              "      <td>2.000000</td>\n",
              "      <td>2013.000000</td>\n",
              "      <td>9.000000</td>\n",
              "      <td>5.000000</td>\n",
              "      <td>0.000000</td>\n",
              "      <td>0.000000</td>\n",
              "      <td>0.000000</td>\n",
              "      <td>0.000000</td>\n",
              "      <td>0.000000</td>\n",
              "      <td>0.000000</td>\n",
              "      <td>0.050385</td>\n",
              "    </tr>\n",
              "    <tr>\n",
              "      <th>max</th>\n",
              "      <td>208.000000</td>\n",
              "      <td>2015.000000</td>\n",
              "      <td>12.000000</td>\n",
              "      <td>6.000000</td>\n",
              "      <td>1.000000</td>\n",
              "      <td>1.000000</td>\n",
              "      <td>1.000000</td>\n",
              "      <td>1.000000</td>\n",
              "      <td>1.000000</td>\n",
              "      <td>1.000000</td>\n",
              "      <td>9726.488411</td>\n",
              "    </tr>\n",
              "  </tbody>\n",
              "</table>\n",
              "</div>\n",
              "      <button class=\"colab-df-convert\" onclick=\"convertToInteractive('df-79564b82-d1cc-4636-a7b1-1569f5b1adb6')\"\n",
              "              title=\"Convert this dataframe to an interactive table.\"\n",
              "              style=\"display:none;\">\n",
              "        \n",
              "  <svg xmlns=\"http://www.w3.org/2000/svg\" height=\"24px\"viewBox=\"0 0 24 24\"\n",
              "       width=\"24px\">\n",
              "    <path d=\"M0 0h24v24H0V0z\" fill=\"none\"/>\n",
              "    <path d=\"M18.56 5.44l.94 2.06.94-2.06 2.06-.94-2.06-.94-.94-2.06-.94 2.06-2.06.94zm-11 1L8.5 8.5l.94-2.06 2.06-.94-2.06-.94L8.5 2.5l-.94 2.06-2.06.94zm10 10l.94 2.06.94-2.06 2.06-.94-2.06-.94-.94-2.06-.94 2.06-2.06.94z\"/><path d=\"M17.41 7.96l-1.37-1.37c-.4-.4-.92-.59-1.43-.59-.52 0-1.04.2-1.43.59L10.3 9.45l-7.72 7.72c-.78.78-.78 2.05 0 2.83L4 21.41c.39.39.9.59 1.41.59.51 0 1.02-.2 1.41-.59l7.78-7.78 2.81-2.81c.8-.78.8-2.07 0-2.86zM5.41 20L4 18.59l7.72-7.72 1.47 1.35L5.41 20z\"/>\n",
              "  </svg>\n",
              "      </button>\n",
              "      \n",
              "  <style>\n",
              "    .colab-df-container {\n",
              "      display:flex;\n",
              "      flex-wrap:wrap;\n",
              "      gap: 12px;\n",
              "    }\n",
              "\n",
              "    .colab-df-convert {\n",
              "      background-color: #E8F0FE;\n",
              "      border: none;\n",
              "      border-radius: 50%;\n",
              "      cursor: pointer;\n",
              "      display: none;\n",
              "      fill: #1967D2;\n",
              "      height: 32px;\n",
              "      padding: 0 0 0 0;\n",
              "      width: 32px;\n",
              "    }\n",
              "\n",
              "    .colab-df-convert:hover {\n",
              "      background-color: #E2EBFA;\n",
              "      box-shadow: 0px 1px 2px rgba(60, 64, 67, 0.3), 0px 1px 3px 1px rgba(60, 64, 67, 0.15);\n",
              "      fill: #174EA6;\n",
              "    }\n",
              "\n",
              "    [theme=dark] .colab-df-convert {\n",
              "      background-color: #3B4455;\n",
              "      fill: #D2E3FC;\n",
              "    }\n",
              "\n",
              "    [theme=dark] .colab-df-convert:hover {\n",
              "      background-color: #434B5C;\n",
              "      box-shadow: 0px 1px 3px 1px rgba(0, 0, 0, 0.15);\n",
              "      filter: drop-shadow(0px 1px 2px rgba(0, 0, 0, 0.3));\n",
              "      fill: #FFFFFF;\n",
              "    }\n",
              "  </style>\n",
              "\n",
              "      <script>\n",
              "        const buttonEl =\n",
              "          document.querySelector('#df-79564b82-d1cc-4636-a7b1-1569f5b1adb6 button.colab-df-convert');\n",
              "        buttonEl.style.display =\n",
              "          google.colab.kernel.accessAllowed ? 'block' : 'none';\n",
              "\n",
              "        async function convertToInteractive(key) {\n",
              "          const element = document.querySelector('#df-79564b82-d1cc-4636-a7b1-1569f5b1adb6');\n",
              "          const dataTable =\n",
              "            await google.colab.kernel.invokeFunction('convertToInteractive',\n",
              "                                                     [key], {});\n",
              "          if (!dataTable) return;\n",
              "\n",
              "          const docLinkHtml = 'Like what you see? Visit the ' +\n",
              "            '<a target=\"_blank\" href=https://colab.research.google.com/notebooks/data_table.ipynb>data table notebook</a>'\n",
              "            + ' to learn more about interactive tables.';\n",
              "          element.innerHTML = '';\n",
              "          dataTable['output_type'] = 'display_data';\n",
              "          await google.colab.output.renderOutput(dataTable, element);\n",
              "          const docLink = document.createElement('div');\n",
              "          docLink.innerHTML = docLinkHtml;\n",
              "          element.appendChild(docLink);\n",
              "        }\n",
              "      </script>\n",
              "    </div>\n",
              "  </div>\n",
              "  "
            ]
          },
          "metadata": {},
          "execution_count": 41
        }
      ],
      "source": [
        "x_train.describe()"
      ]
    },
    {
      "cell_type": "code",
      "execution_count": null,
      "metadata": {
        "id": "CzUJ4b_e50HA"
      },
      "outputs": [],
      "source": [
        "x_train.loc[x_train['passenger_count'] == 0, 'passenger_count'] = 1"
      ]
    },
    {
      "cell_type": "code",
      "execution_count": null,
      "metadata": {
        "colab": {
          "base_uri": "https://localhost:8080/",
          "height": 81
        },
        "id": "-EkfCSAD7tbG",
        "outputId": "5be46aa8-234a-4c2a-b1f9-4ae24b1660d0"
      },
      "outputs": [
        {
          "output_type": "execute_result",
          "data": {
            "text/plain": [
              "        passenger_count  year  month  weekday  hour_b_0  hour_b_1  hour_b_2  \\\n",
              "929022              208  2009      7        3         0         0         1   \n",
              "\n",
              "        hour_b_3  hour_b_4  hour_b_5  m_menhunt  \n",
              "929022         0         0         0        0.0  "
            ],
            "text/html": [
              "\n",
              "  <div id=\"df-5bd5a3c0-c6cc-4e3d-8588-e5ae1e0090ac\">\n",
              "    <div class=\"colab-df-container\">\n",
              "      <div>\n",
              "<style scoped>\n",
              "    .dataframe tbody tr th:only-of-type {\n",
              "        vertical-align: middle;\n",
              "    }\n",
              "\n",
              "    .dataframe tbody tr th {\n",
              "        vertical-align: top;\n",
              "    }\n",
              "\n",
              "    .dataframe thead th {\n",
              "        text-align: right;\n",
              "    }\n",
              "</style>\n",
              "<table border=\"1\" class=\"dataframe\">\n",
              "  <thead>\n",
              "    <tr style=\"text-align: right;\">\n",
              "      <th></th>\n",
              "      <th>passenger_count</th>\n",
              "      <th>year</th>\n",
              "      <th>month</th>\n",
              "      <th>weekday</th>\n",
              "      <th>hour_b_0</th>\n",
              "      <th>hour_b_1</th>\n",
              "      <th>hour_b_2</th>\n",
              "      <th>hour_b_3</th>\n",
              "      <th>hour_b_4</th>\n",
              "      <th>hour_b_5</th>\n",
              "      <th>m_menhunt</th>\n",
              "    </tr>\n",
              "  </thead>\n",
              "  <tbody>\n",
              "    <tr>\n",
              "      <th>929022</th>\n",
              "      <td>208</td>\n",
              "      <td>2009</td>\n",
              "      <td>7</td>\n",
              "      <td>3</td>\n",
              "      <td>0</td>\n",
              "      <td>0</td>\n",
              "      <td>1</td>\n",
              "      <td>0</td>\n",
              "      <td>0</td>\n",
              "      <td>0</td>\n",
              "      <td>0.0</td>\n",
              "    </tr>\n",
              "  </tbody>\n",
              "</table>\n",
              "</div>\n",
              "      <button class=\"colab-df-convert\" onclick=\"convertToInteractive('df-5bd5a3c0-c6cc-4e3d-8588-e5ae1e0090ac')\"\n",
              "              title=\"Convert this dataframe to an interactive table.\"\n",
              "              style=\"display:none;\">\n",
              "        \n",
              "  <svg xmlns=\"http://www.w3.org/2000/svg\" height=\"24px\"viewBox=\"0 0 24 24\"\n",
              "       width=\"24px\">\n",
              "    <path d=\"M0 0h24v24H0V0z\" fill=\"none\"/>\n",
              "    <path d=\"M18.56 5.44l.94 2.06.94-2.06 2.06-.94-2.06-.94-.94-2.06-.94 2.06-2.06.94zm-11 1L8.5 8.5l.94-2.06 2.06-.94-2.06-.94L8.5 2.5l-.94 2.06-2.06.94zm10 10l.94 2.06.94-2.06 2.06-.94-2.06-.94-.94-2.06-.94 2.06-2.06.94z\"/><path d=\"M17.41 7.96l-1.37-1.37c-.4-.4-.92-.59-1.43-.59-.52 0-1.04.2-1.43.59L10.3 9.45l-7.72 7.72c-.78.78-.78 2.05 0 2.83L4 21.41c.39.39.9.59 1.41.59.51 0 1.02-.2 1.41-.59l7.78-7.78 2.81-2.81c.8-.78.8-2.07 0-2.86zM5.41 20L4 18.59l7.72-7.72 1.47 1.35L5.41 20z\"/>\n",
              "  </svg>\n",
              "      </button>\n",
              "      \n",
              "  <style>\n",
              "    .colab-df-container {\n",
              "      display:flex;\n",
              "      flex-wrap:wrap;\n",
              "      gap: 12px;\n",
              "    }\n",
              "\n",
              "    .colab-df-convert {\n",
              "      background-color: #E8F0FE;\n",
              "      border: none;\n",
              "      border-radius: 50%;\n",
              "      cursor: pointer;\n",
              "      display: none;\n",
              "      fill: #1967D2;\n",
              "      height: 32px;\n",
              "      padding: 0 0 0 0;\n",
              "      width: 32px;\n",
              "    }\n",
              "\n",
              "    .colab-df-convert:hover {\n",
              "      background-color: #E2EBFA;\n",
              "      box-shadow: 0px 1px 2px rgba(60, 64, 67, 0.3), 0px 1px 3px 1px rgba(60, 64, 67, 0.15);\n",
              "      fill: #174EA6;\n",
              "    }\n",
              "\n",
              "    [theme=dark] .colab-df-convert {\n",
              "      background-color: #3B4455;\n",
              "      fill: #D2E3FC;\n",
              "    }\n",
              "\n",
              "    [theme=dark] .colab-df-convert:hover {\n",
              "      background-color: #434B5C;\n",
              "      box-shadow: 0px 1px 3px 1px rgba(0, 0, 0, 0.15);\n",
              "      filter: drop-shadow(0px 1px 2px rgba(0, 0, 0, 0.3));\n",
              "      fill: #FFFFFF;\n",
              "    }\n",
              "  </style>\n",
              "\n",
              "      <script>\n",
              "        const buttonEl =\n",
              "          document.querySelector('#df-5bd5a3c0-c6cc-4e3d-8588-e5ae1e0090ac button.colab-df-convert');\n",
              "        buttonEl.style.display =\n",
              "          google.colab.kernel.accessAllowed ? 'block' : 'none';\n",
              "\n",
              "        async function convertToInteractive(key) {\n",
              "          const element = document.querySelector('#df-5bd5a3c0-c6cc-4e3d-8588-e5ae1e0090ac');\n",
              "          const dataTable =\n",
              "            await google.colab.kernel.invokeFunction('convertToInteractive',\n",
              "                                                     [key], {});\n",
              "          if (!dataTable) return;\n",
              "\n",
              "          const docLinkHtml = 'Like what you see? Visit the ' +\n",
              "            '<a target=\"_blank\" href=https://colab.research.google.com/notebooks/data_table.ipynb>data table notebook</a>'\n",
              "            + ' to learn more about interactive tables.';\n",
              "          element.innerHTML = '';\n",
              "          dataTable['output_type'] = 'display_data';\n",
              "          await google.colab.output.renderOutput(dataTable, element);\n",
              "          const docLink = document.createElement('div');\n",
              "          docLink.innerHTML = docLinkHtml;\n",
              "          element.appendChild(docLink);\n",
              "        }\n",
              "      </script>\n",
              "    </div>\n",
              "  </div>\n",
              "  "
            ]
          },
          "metadata": {},
          "execution_count": 43
        }
      ],
      "source": [
        "x_train[x_train['passenger_count'] == 208]"
      ]
    },
    {
      "cell_type": "code",
      "execution_count": null,
      "metadata": {
        "id": "mTCBynOh78NG"
      },
      "outputs": [],
      "source": [
        "a = x_train[x_train['passenger_count'] == 208].index\n",
        "x_train = x_train.drop(a)\n",
        "y_train = y_train.drop(a)"
      ]
    },
    {
      "cell_type": "code",
      "execution_count": null,
      "metadata": {
        "id": "-XzdLjxwIrMt"
      },
      "outputs": [],
      "source": [
        ""
      ]
    },
    {
      "cell_type": "code",
      "execution_count": null,
      "metadata": {
        "colab": {
          "base_uri": "https://localhost:8080/"
        },
        "id": "e3-ggM2x8y9p",
        "outputId": "843b92e6-520d-412f-8089-6d331bcc14d0"
      },
      "outputs": [
        {
          "output_type": "execute_result",
          "data": {
            "text/plain": [
              "1    694899\n",
              "2    148105\n",
              "5     70595\n",
              "3     43765\n",
              "4     21429\n",
              "6     21196\n",
              "Name: passenger_count, dtype: int64"
            ]
          },
          "metadata": {},
          "execution_count": 45
        }
      ],
      "source": [
        "x_train['passenger_count'].value_counts()"
      ]
    },
    {
      "cell_type": "code",
      "execution_count": null,
      "metadata": {
        "id": "Djhp5k1QB1sP"
      },
      "outputs": [],
      "source": [
        "b = x_train[x_train['m_menhunt'] >1.5].index\n",
        "x_train = x_train.drop(b)\n",
        "y_train = y_train.drop(b)"
      ]
    },
    {
      "cell_type": "code",
      "execution_count": null,
      "metadata": {
        "colab": {
          "base_uri": "https://localhost:8080/",
          "height": 364
        },
        "id": "ACdDflAxDSyh",
        "outputId": "34b61b6b-c388-495d-fc38-7837d8cb0d4c"
      },
      "outputs": [
        {
          "output_type": "execute_result",
          "data": {
            "text/plain": [
              "       passenger_count           year          month        weekday  \\\n",
              "count    997972.000000  997972.000000  997972.000000  997972.000000   \n",
              "mean          1.688291    2011.739191       6.267910       3.040000   \n",
              "std           1.304416       1.860798       3.436485       1.949924   \n",
              "min           1.000000    2009.000000       1.000000       0.000000   \n",
              "25%           1.000000    2010.000000       3.000000       1.000000   \n",
              "50%           1.000000    2012.000000       6.000000       3.000000   \n",
              "75%           2.000000    2013.000000       9.000000       5.000000   \n",
              "max           6.000000    2015.000000      12.000000       6.000000   \n",
              "\n",
              "            hour_b_0       hour_b_1       hour_b_2       hour_b_3  \\\n",
              "count  997972.000000  997972.000000  997972.000000  997972.000000   \n",
              "mean        0.106550       0.078218       0.183826       0.196810   \n",
              "std         0.308541       0.268514       0.387342       0.397588   \n",
              "min         0.000000       0.000000       0.000000       0.000000   \n",
              "25%         0.000000       0.000000       0.000000       0.000000   \n",
              "50%         0.000000       0.000000       0.000000       0.000000   \n",
              "75%         0.000000       0.000000       0.000000       0.000000   \n",
              "max         1.000000       1.000000       1.000000       1.000000   \n",
              "\n",
              "            hour_b_4       hour_b_5      m_menhunt  \n",
              "count  997972.000000  997972.000000  997972.000000  \n",
              "mean        0.213526       0.221070       0.043472  \n",
              "std         0.409796       0.414968       0.054445  \n",
              "min         0.000000       0.000000       0.000000  \n",
              "25%         0.000000       0.000000       0.015817  \n",
              "50%         0.000000       0.000000       0.027580  \n",
              "75%         0.000000       0.000000       0.050145  \n",
              "max         1.000000       1.000000       1.499698  "
            ],
            "text/html": [
              "\n",
              "  <div id=\"df-8b4cd1db-9c79-4b94-86ff-ed9800f6030b\">\n",
              "    <div class=\"colab-df-container\">\n",
              "      <div>\n",
              "<style scoped>\n",
              "    .dataframe tbody tr th:only-of-type {\n",
              "        vertical-align: middle;\n",
              "    }\n",
              "\n",
              "    .dataframe tbody tr th {\n",
              "        vertical-align: top;\n",
              "    }\n",
              "\n",
              "    .dataframe thead th {\n",
              "        text-align: right;\n",
              "    }\n",
              "</style>\n",
              "<table border=\"1\" class=\"dataframe\">\n",
              "  <thead>\n",
              "    <tr style=\"text-align: right;\">\n",
              "      <th></th>\n",
              "      <th>passenger_count</th>\n",
              "      <th>year</th>\n",
              "      <th>month</th>\n",
              "      <th>weekday</th>\n",
              "      <th>hour_b_0</th>\n",
              "      <th>hour_b_1</th>\n",
              "      <th>hour_b_2</th>\n",
              "      <th>hour_b_3</th>\n",
              "      <th>hour_b_4</th>\n",
              "      <th>hour_b_5</th>\n",
              "      <th>m_menhunt</th>\n",
              "    </tr>\n",
              "  </thead>\n",
              "  <tbody>\n",
              "    <tr>\n",
              "      <th>count</th>\n",
              "      <td>997972.000000</td>\n",
              "      <td>997972.000000</td>\n",
              "      <td>997972.000000</td>\n",
              "      <td>997972.000000</td>\n",
              "      <td>997972.000000</td>\n",
              "      <td>997972.000000</td>\n",
              "      <td>997972.000000</td>\n",
              "      <td>997972.000000</td>\n",
              "      <td>997972.000000</td>\n",
              "      <td>997972.000000</td>\n",
              "      <td>997972.000000</td>\n",
              "    </tr>\n",
              "    <tr>\n",
              "      <th>mean</th>\n",
              "      <td>1.688291</td>\n",
              "      <td>2011.739191</td>\n",
              "      <td>6.267910</td>\n",
              "      <td>3.040000</td>\n",
              "      <td>0.106550</td>\n",
              "      <td>0.078218</td>\n",
              "      <td>0.183826</td>\n",
              "      <td>0.196810</td>\n",
              "      <td>0.213526</td>\n",
              "      <td>0.221070</td>\n",
              "      <td>0.043472</td>\n",
              "    </tr>\n",
              "    <tr>\n",
              "      <th>std</th>\n",
              "      <td>1.304416</td>\n",
              "      <td>1.860798</td>\n",
              "      <td>3.436485</td>\n",
              "      <td>1.949924</td>\n",
              "      <td>0.308541</td>\n",
              "      <td>0.268514</td>\n",
              "      <td>0.387342</td>\n",
              "      <td>0.397588</td>\n",
              "      <td>0.409796</td>\n",
              "      <td>0.414968</td>\n",
              "      <td>0.054445</td>\n",
              "    </tr>\n",
              "    <tr>\n",
              "      <th>min</th>\n",
              "      <td>1.000000</td>\n",
              "      <td>2009.000000</td>\n",
              "      <td>1.000000</td>\n",
              "      <td>0.000000</td>\n",
              "      <td>0.000000</td>\n",
              "      <td>0.000000</td>\n",
              "      <td>0.000000</td>\n",
              "      <td>0.000000</td>\n",
              "      <td>0.000000</td>\n",
              "      <td>0.000000</td>\n",
              "      <td>0.000000</td>\n",
              "    </tr>\n",
              "    <tr>\n",
              "      <th>25%</th>\n",
              "      <td>1.000000</td>\n",
              "      <td>2010.000000</td>\n",
              "      <td>3.000000</td>\n",
              "      <td>1.000000</td>\n",
              "      <td>0.000000</td>\n",
              "      <td>0.000000</td>\n",
              "      <td>0.000000</td>\n",
              "      <td>0.000000</td>\n",
              "      <td>0.000000</td>\n",
              "      <td>0.000000</td>\n",
              "      <td>0.015817</td>\n",
              "    </tr>\n",
              "    <tr>\n",
              "      <th>50%</th>\n",
              "      <td>1.000000</td>\n",
              "      <td>2012.000000</td>\n",
              "      <td>6.000000</td>\n",
              "      <td>3.000000</td>\n",
              "      <td>0.000000</td>\n",
              "      <td>0.000000</td>\n",
              "      <td>0.000000</td>\n",
              "      <td>0.000000</td>\n",
              "      <td>0.000000</td>\n",
              "      <td>0.000000</td>\n",
              "      <td>0.027580</td>\n",
              "    </tr>\n",
              "    <tr>\n",
              "      <th>75%</th>\n",
              "      <td>2.000000</td>\n",
              "      <td>2013.000000</td>\n",
              "      <td>9.000000</td>\n",
              "      <td>5.000000</td>\n",
              "      <td>0.000000</td>\n",
              "      <td>0.000000</td>\n",
              "      <td>0.000000</td>\n",
              "      <td>0.000000</td>\n",
              "      <td>0.000000</td>\n",
              "      <td>0.000000</td>\n",
              "      <td>0.050145</td>\n",
              "    </tr>\n",
              "    <tr>\n",
              "      <th>max</th>\n",
              "      <td>6.000000</td>\n",
              "      <td>2015.000000</td>\n",
              "      <td>12.000000</td>\n",
              "      <td>6.000000</td>\n",
              "      <td>1.000000</td>\n",
              "      <td>1.000000</td>\n",
              "      <td>1.000000</td>\n",
              "      <td>1.000000</td>\n",
              "      <td>1.000000</td>\n",
              "      <td>1.000000</td>\n",
              "      <td>1.499698</td>\n",
              "    </tr>\n",
              "  </tbody>\n",
              "</table>\n",
              "</div>\n",
              "      <button class=\"colab-df-convert\" onclick=\"convertToInteractive('df-8b4cd1db-9c79-4b94-86ff-ed9800f6030b')\"\n",
              "              title=\"Convert this dataframe to an interactive table.\"\n",
              "              style=\"display:none;\">\n",
              "        \n",
              "  <svg xmlns=\"http://www.w3.org/2000/svg\" height=\"24px\"viewBox=\"0 0 24 24\"\n",
              "       width=\"24px\">\n",
              "    <path d=\"M0 0h24v24H0V0z\" fill=\"none\"/>\n",
              "    <path d=\"M18.56 5.44l.94 2.06.94-2.06 2.06-.94-2.06-.94-.94-2.06-.94 2.06-2.06.94zm-11 1L8.5 8.5l.94-2.06 2.06-.94-2.06-.94L8.5 2.5l-.94 2.06-2.06.94zm10 10l.94 2.06.94-2.06 2.06-.94-2.06-.94-.94-2.06-.94 2.06-2.06.94z\"/><path d=\"M17.41 7.96l-1.37-1.37c-.4-.4-.92-.59-1.43-.59-.52 0-1.04.2-1.43.59L10.3 9.45l-7.72 7.72c-.78.78-.78 2.05 0 2.83L4 21.41c.39.39.9.59 1.41.59.51 0 1.02-.2 1.41-.59l7.78-7.78 2.81-2.81c.8-.78.8-2.07 0-2.86zM5.41 20L4 18.59l7.72-7.72 1.47 1.35L5.41 20z\"/>\n",
              "  </svg>\n",
              "      </button>\n",
              "      \n",
              "  <style>\n",
              "    .colab-df-container {\n",
              "      display:flex;\n",
              "      flex-wrap:wrap;\n",
              "      gap: 12px;\n",
              "    }\n",
              "\n",
              "    .colab-df-convert {\n",
              "      background-color: #E8F0FE;\n",
              "      border: none;\n",
              "      border-radius: 50%;\n",
              "      cursor: pointer;\n",
              "      display: none;\n",
              "      fill: #1967D2;\n",
              "      height: 32px;\n",
              "      padding: 0 0 0 0;\n",
              "      width: 32px;\n",
              "    }\n",
              "\n",
              "    .colab-df-convert:hover {\n",
              "      background-color: #E2EBFA;\n",
              "      box-shadow: 0px 1px 2px rgba(60, 64, 67, 0.3), 0px 1px 3px 1px rgba(60, 64, 67, 0.15);\n",
              "      fill: #174EA6;\n",
              "    }\n",
              "\n",
              "    [theme=dark] .colab-df-convert {\n",
              "      background-color: #3B4455;\n",
              "      fill: #D2E3FC;\n",
              "    }\n",
              "\n",
              "    [theme=dark] .colab-df-convert:hover {\n",
              "      background-color: #434B5C;\n",
              "      box-shadow: 0px 1px 3px 1px rgba(0, 0, 0, 0.15);\n",
              "      filter: drop-shadow(0px 1px 2px rgba(0, 0, 0, 0.3));\n",
              "      fill: #FFFFFF;\n",
              "    }\n",
              "  </style>\n",
              "\n",
              "      <script>\n",
              "        const buttonEl =\n",
              "          document.querySelector('#df-8b4cd1db-9c79-4b94-86ff-ed9800f6030b button.colab-df-convert');\n",
              "        buttonEl.style.display =\n",
              "          google.colab.kernel.accessAllowed ? 'block' : 'none';\n",
              "\n",
              "        async function convertToInteractive(key) {\n",
              "          const element = document.querySelector('#df-8b4cd1db-9c79-4b94-86ff-ed9800f6030b');\n",
              "          const dataTable =\n",
              "            await google.colab.kernel.invokeFunction('convertToInteractive',\n",
              "                                                     [key], {});\n",
              "          if (!dataTable) return;\n",
              "\n",
              "          const docLinkHtml = 'Like what you see? Visit the ' +\n",
              "            '<a target=\"_blank\" href=https://colab.research.google.com/notebooks/data_table.ipynb>data table notebook</a>'\n",
              "            + ' to learn more about interactive tables.';\n",
              "          element.innerHTML = '';\n",
              "          dataTable['output_type'] = 'display_data';\n",
              "          await google.colab.output.renderOutput(dataTable, element);\n",
              "          const docLink = document.createElement('div');\n",
              "          docLink.innerHTML = docLinkHtml;\n",
              "          element.appendChild(docLink);\n",
              "        }\n",
              "      </script>\n",
              "    </div>\n",
              "  </div>\n",
              "  "
            ]
          },
          "metadata": {},
          "execution_count": 47
        }
      ],
      "source": [
        "x_train.describe()"
      ]
    },
    {
      "cell_type": "code",
      "execution_count": null,
      "metadata": {
        "colab": {
          "base_uri": "https://localhost:8080/"
        },
        "id": "AXqW0vUIDoBL",
        "outputId": "7d536ed4-9f48-446d-a105-72a5eaf5987d"
      },
      "outputs": [
        {
          "output_type": "stream",
          "name": "stdout",
          "text": [
            "<class 'pandas.core.frame.DataFrame'>\n",
            "Int64Index: 997972 entries, 0 to 999999\n",
            "Data columns (total 11 columns):\n",
            " #   Column           Non-Null Count   Dtype  \n",
            "---  ------           --------------   -----  \n",
            " 0   passenger_count  997972 non-null  int64  \n",
            " 1   year             997972 non-null  int64  \n",
            " 2   month            997972 non-null  int64  \n",
            " 3   weekday          997972 non-null  int64  \n",
            " 4   hour_b_0         997972 non-null  uint8  \n",
            " 5   hour_b_1         997972 non-null  uint8  \n",
            " 6   hour_b_2         997972 non-null  uint8  \n",
            " 7   hour_b_3         997972 non-null  uint8  \n",
            " 8   hour_b_4         997972 non-null  uint8  \n",
            " 9   hour_b_5         997972 non-null  uint8  \n",
            " 10  m_menhunt        997972 non-null  float64\n",
            "dtypes: float64(1), int64(4), uint8(6)\n",
            "memory usage: 51.4 MB\n"
          ]
        }
      ],
      "source": [
        "x_train.info()"
      ]
    },
    {
      "cell_type": "code",
      "execution_count": null,
      "metadata": {
        "colab": {
          "base_uri": "https://localhost:8080/"
        },
        "id": "Ojk_IT0cEDy2",
        "outputId": "4107316a-40fa-471a-a498-cc66e5569922"
      },
      "outputs": [
        {
          "output_type": "stream",
          "name": "stdout",
          "text": [
            "<class 'pandas.core.frame.DataFrame'>\n",
            "RangeIndex: 9914 entries, 0 to 9913\n",
            "Data columns (total 11 columns):\n",
            " #   Column           Non-Null Count  Dtype  \n",
            "---  ------           --------------  -----  \n",
            " 0   passenger_count  9914 non-null   int64  \n",
            " 1   year             9914 non-null   int64  \n",
            " 2   month            9914 non-null   int64  \n",
            " 3   weekday          9914 non-null   int64  \n",
            " 4   hour_b_0         9914 non-null   uint8  \n",
            " 5   hour_b_1         9914 non-null   uint8  \n",
            " 6   hour_b_2         9914 non-null   uint8  \n",
            " 7   hour_b_3         9914 non-null   uint8  \n",
            " 8   hour_b_4         9914 non-null   uint8  \n",
            " 9   hour_b_5         9914 non-null   uint8  \n",
            " 10  m_menhunt        9914 non-null   float64\n",
            "dtypes: float64(1), int64(4), uint8(6)\n",
            "memory usage: 445.5 KB\n"
          ]
        }
      ],
      "source": [
        "x_test.info()"
      ]
    },
    {
      "cell_type": "markdown",
      "metadata": {
        "id": "V2aXpxjtELrl"
      },
      "source": [
        "표준화, 정규화"
      ]
    },
    {
      "cell_type": "code",
      "execution_count": null,
      "metadata": {
        "id": "U4AUmEotEbg2"
      },
      "outputs": [],
      "source": [
        "sds, mms = StandardScaler(), MinMaxScaler()\n",
        "for i in ['year','m_menhunt']:\n",
        "    x_train[i] = sds.fit_transform(x_train[[i]])\n",
        "    x_test[i] = sds.transform(x_test[[i]])\n",
        "    x_train[i] = mms.fit_transform(x_train[[i]])\n",
        "    x_test[i] = mms.transform(x_test[[i]])"
      ]
    },
    {
      "cell_type": "code",
      "execution_count": null,
      "metadata": {
        "colab": {
          "base_uri": "https://localhost:8080/",
          "height": 344
        },
        "id": "sx4xpWc6EjEW",
        "outputId": "1116b12d-d7f6-4ba5-8162-ddbbc9662865"
      },
      "outputs": [
        {
          "output_type": "display_data",
          "data": {
            "text/plain": [
              "<Figure size 432x288 with 2 Axes>"
            ],
            "image/png": "[encoded data removed]"
          },
          "metadata": {
            "needs_background": "light"
          }
        }
      ],
      "source": [
        "xx = pd.concat([x_train, y_train], axis = 1)\n",
        "sns.heatmap(xx.corr().abs(), cmap='ocean')\n",
        "plt.show()"
      ]
    },
    {
      "cell_type": "markdown",
      "metadata": {
        "id": "XzSCDnMnGEie"
      },
      "source": [
        "# 모델링(kneighbors, randomforest, xgb, ,lgbm, cat)"
      ]
    },
    {
      "cell_type": "code",
      "execution_count": null,
      "metadata": {
        "id": "jhuTUBa9GEFU"
      },
      "outputs": [],
      "source": [
        "# x_ttrain, x_ttest, y_ttrain, y_ttest = train_test_split(x_train, y_train)\n",
        "knr = KNeighborsRegressor()\n",
        "rfr = RandomForestRegressor(max_depth = 8, n_estimators = 300)\n",
        "xgb = XGBRegressor(max_depth = 6, n_estimators = 100)\n",
        "xgbrf = XGBRFRegressor()\n",
        "lgbm = LGBMRegressor()\n",
        "cat = CatBoostRegressor(verbose=0)\n",
        "# models = [knr, rfr, xgb, xgbrf, lgbm, cat]\n",
        "# for i in models:\n",
        "#     model = i.fit(x_ttrain, y_ttrain)\n",
        "#     pre = model.predict(x_ttest)\n",
        "#     sc = round(model.score(x_ttrain, y_ttrain), 4)\n",
        "#     mse = round(mean_squared_error(y_ttest, pre), 4)\n",
        "#     print(f'{model.__class__.__name__} === sc : {sc}, mse : {mse}')"
      ]
    },
    {
      "cell_type": "code",
      "execution_count": null,
      "metadata": {
        "id": "a7x0SbvKIPrs"
      },
      "outputs": [],
      "source": [
        "params = {'max_depth' : [4], 'n_estimators' : [100]}\n",
        "gsv = GridSearchCV(rfr, params, scoring='neg_mean_squared_error', cv = 5)\n",
        "model = gsv.fit(x_train, y_train)\n",
        "model.best_params_, model.best_score_"
      ]
    },
    {
      "cell_type": "code",
      "execution_count": null,
      "metadata": {
        "id": "I6jBFFJSQHed"
      },
      "outputs": [],
      "source": [
        "params = {'max_depth' : [6], 'n_estimators' : [200]}\n",
        "gsv = GridSearchCV(rfr, params, scoring='neg_mean_squared_error', cv = 5)\n",
        "model = gsv.fit(x_train, y_train)\n",
        "model.best_params_, model.best_score_"
      ]
    },
    {
      "cell_type": "code",
      "execution_count": null,
      "metadata": {
        "id": "CW_A9VhKYVIV"
      },
      "outputs": [],
      "source": [
        "params = {'max_depth' : [8], 'n_estimators' : [300]}\n",
        "gsv = GridSearchCV(rfr, params, scoring='neg_mean_squared_error', cv = 5)\n",
        "model = gsv.fit(x_train, y_train)\n",
        "model.best_params_, model.best_score_"
      ]
    },
    {
      "cell_type": "code",
      "execution_count": null,
      "metadata": {
        "id": "PUMgdYnYr6P7"
      },
      "outputs": [],
      "source": [
        "params = {'max_depth' : [2,4,6], 'n_estimators' : [50,100,200]}\n",
        "gsv = GridSearchCV(xgb, params, scoring='neg_mean_squared_error', cv = 5)\n",
        "model = gsv.fit(x_train, y_train)\n",
        "model.best_params_, model.best_score_"
      ]
    },
    {
      "cell_type": "code",
      "source": [
        "params = {'max_depth' : [8,6], 'n_estimators' : [100]}\n",
        "gsv = GridSearchCV(xgb, params, scoring='neg_mean_squared_error', cv = 5)\n",
        "model = gsv.fit(x_train, y_train)\n",
        "model.best_params_, model.best_score_"
      ],
      "metadata": {
        "id": "3OQB2qS8f4r2"
      },
      "execution_count": null,
      "outputs": []
    },
    {
      "cell_type": "markdown",
      "source": [
        "# 앙상블(rfr, xgb, cat)"
      ],
      "metadata": {
        "id": "eVVO8CCznfDX"
      }
    },
    {
      "cell_type": "code",
      "source": [
        "model1 = rfr.fit(x_train, y_train)\n",
        "pre1 = model1.predict(x_test)\n",
        "model2 = xgb.fit(x_train, y_train)\n",
        "pre2 = model2.predict(x_test)\n",
        "model3 = cat.fit(x_train, y_train)\n",
        "pre3 = model3.predict(x_test)\n",
        "pre = (pre1 + pre2 + pre3)/3"
      ],
      "metadata": {
        "colab": {
          "base_uri": "https://localhost:8080/"
        },
        "id": "ewOKgA2Snk4x",
        "outputId": "08d7df16-33a4-45f9-80ed-827ccdb30cfd"
      },
      "execution_count": 56,
      "outputs": [
        {
          "output_type": "stream",
          "name": "stdout",
          "text": [
            "[02:51:30] WARNING: /workspace/src/objective/regression_obj.cu:152: reg:linear is now deprecated in favor of reg:squarederror.\n"
          ]
        }
      ]
    },
    {
      "cell_type": "code",
      "source": [
        "pre"
      ],
      "metadata": {
        "colab": {
          "base_uri": "https://localhost:8080/"
        },
        "id": "eMq39KTsoM7d",
        "outputId": "d12c6d68-b435-4b14-f74e-d04fab59602c"
      },
      "execution_count": 57,
      "outputs": [
        {
          "output_type": "execute_result",
          "data": {
            "text/plain": [
              "array([10.10854387, 11.09378935,  4.69665376, ..., 54.26650986,\n",
              "       24.25356247,  7.15806273])"
            ]
          },
          "metadata": {},
          "execution_count": 57
        }
      ]
    },
    {
      "cell_type": "code",
      "source": [
        "submission = pd.read_csv('/content/sample_submission.csv')\n",
        "submission['fare_amount']=pre\n",
        "submission.to_csv('submission.csv', index = False)"
      ],
      "metadata": {
        "id": "bhuKxClHxLmk"
      },
      "execution_count": 59,
      "outputs": []
    }
  ],
  "metadata": {
    "colab": {
      "name": "New York City Taxi Fare Prediction.ipynb",
      "provenance": [],
      "authorship_tag": "ABX9TyP9zT7e54uzoN8AC4O9wA0K",
      "include_colab_link": true
    },
    "kernelspec": {
      "display_name": "Python 3",
      "name": "python3"
    },
    "language_info": {
      "name": "python"
    }
  },
  "nbformat": 4,
  "nbformat_minor": 0
}